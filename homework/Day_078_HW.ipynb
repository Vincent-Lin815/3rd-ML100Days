{
 "cells": [
  {
   "cell_type": "markdown",
   "metadata": {},
   "source": [
    "## Work\n",
    "1. 請嘗試將 preproc_x 替換成以每筆資料的 min/max 進行標準化至 -1 ~ 1 間，再進行訓練\n",
    "2. 請嘗試將 mlp 疊更深 (e.g 5~10 層)，進行訓練後觀察 learning curve 的走勢\n",
    "3. (optional) 請改用 GPU 進行訓練 (如果你有 GPU 的話)，比較使用 CPU 與 GPU 的訓練速度"
   ]
  },
  {
   "cell_type": "code",
   "execution_count": 11,
   "metadata": {},
   "outputs": [
    {
     "name": "stdout",
     "output_type": "stream",
     "text": [
      "Fri Nov 22 10:32:59 2019       \n",
      "+-----------------------------------------------------------------------------+\n",
      "| NVIDIA-SMI 441.12       Driver Version: 441.12       CUDA Version: 10.2     |\n",
      "|-------------------------------+----------------------+----------------------+\n",
      "| GPU  Name            TCC/WDDM | Bus-Id        Disp.A | Volatile Uncorr. ECC |\n",
      "| Fan  Temp  Perf  Pwr:Usage/Cap|         Memory-Usage | GPU-Util  Compute M. |\n",
      "|===============================+======================+======================|\n",
      "|   0  GeForce GTX 1650   WDDM  | 00000000:01:00.0 Off |                  N/A |\n",
      "| N/A   42C    P8     4W /  N/A |    132MiB /  4096MiB |      0%      Default |\n",
      "+-------------------------------+----------------------+----------------------+\n",
      "                                                                               \n",
      "+-----------------------------------------------------------------------------+\n",
      "| Processes:                                                       GPU Memory |\n",
      "|  GPU       PID   Type   Process name                             Usage      |\n",
      "|=============================================================================|\n",
      "|  No running processes found                                                 |\n",
      "+-----------------------------------------------------------------------------+\n"
     ]
    }
   ],
   "source": [
    "## \n",
    "\"\"\"\n",
    "Your code here (optional)\n",
    "確認硬體資源\n",
    "\"\"\"\n",
    "!nvidia-smi"
   ]
  },
  {
   "cell_type": "code",
   "execution_count": 12,
   "metadata": {},
   "outputs": [],
   "source": [
    "import os\n",
    "import keras\n",
    "\n",
    "# 請嘗試設定 GPU：os.environ\n"
   ]
  },
  {
   "cell_type": "code",
   "execution_count": 13,
   "metadata": {},
   "outputs": [],
   "source": [
    "train, test = keras.datasets.cifar10.load_data()"
   ]
  },
  {
   "cell_type": "code",
   "execution_count": 14,
   "metadata": {},
   "outputs": [],
   "source": [
    "## 資料前處理\n",
    "def preproc_x(x, flatten=True):\n",
    "    x = 2*x/255-1\n",
    "    if flatten:\n",
    "        x = x.reshape((len(x), -1))\n",
    "    return x\n",
    "\n",
    "def preproc_y(y, num_classes=10):\n",
    "    if y.shape[-1] == 1:\n",
    "        y = keras.utils.to_categorical(y, num_classes)\n",
    "    return y    "
   ]
  },
  {
   "cell_type": "code",
   "execution_count": 15,
   "metadata": {},
   "outputs": [],
   "source": [
    "x_train, y_train = train\n",
    "x_test, y_test = test\n",
    "\n",
    "# Preproc the inputs\n",
    "x_train = preproc_x(x_train)\n",
    "x_test = preproc_x(x_test)\n",
    "\n",
    "# Preprc the outputs\n",
    "y_train = preproc_y(y_train)\n",
    "y_test = preproc_y(y_test)"
   ]
  },
  {
   "cell_type": "code",
   "execution_count": 16,
   "metadata": {},
   "outputs": [
    {
     "name": "stdout",
     "output_type": "stream",
     "text": [
      "Model: \"model_2\"\n",
      "_________________________________________________________________\n",
      "Layer (type)                 Output Shape              Param #   \n",
      "=================================================================\n",
      "input_2 (InputLayer)         (None, 3072)              0         \n",
      "_________________________________________________________________\n",
      "hidden_layer1 (Dense)        (None, 512)               1573376   \n",
      "_________________________________________________________________\n",
      "hidden_layer2 (Dense)        (None, 256)               131328    \n",
      "_________________________________________________________________\n",
      "hidden_layer3 (Dense)        (None, 128)               32896     \n",
      "_________________________________________________________________\n",
      "output (Dense)               (None, 10)                1290      \n",
      "=================================================================\n",
      "Total params: 1,738,890\n",
      "Trainable params: 1,738,890\n",
      "Non-trainable params: 0\n",
      "_________________________________________________________________\n"
     ]
    }
   ],
   "source": [
    "\"\"\"Code Here\n",
    "建立你的神經網路\n",
    "\"\"\"\n",
    "def build_mlp(input_shape, output_units=10, num_neurons=[512, 256, 128]):\n",
    "    input_layer = keras.layers.Input(input_shape)\n",
    "    \n",
    "    for i, n_units in enumerate(num_neurons):\n",
    "        if i == 0:\n",
    "            x = keras.layers.Dense(units=n_units, activation=\"relu\", name=\"hidden_layer\"+str(i+1))(input_layer)\n",
    "        else:\n",
    "            x = keras.layers.Dense(units=n_units, activation=\"relu\", name=\"hidden_layer\"+str(i+1))(x)\n",
    "    \n",
    "    out = keras.layers.Dense(units=output_units, activation=\"softmax\", name=\"output\")(x)\n",
    "    \n",
    "    model = keras.models.Model(inputs=[input_layer], outputs=[out])\n",
    "    return model\n",
    "\n",
    "model = build_mlp(input_shape=x_train.shape[1:])\n",
    "model.summary()"
   ]
  },
  {
   "cell_type": "code",
   "execution_count": 17,
   "metadata": {},
   "outputs": [],
   "source": [
    "## 超參數設定\n",
    "LEARNING_RATE = 0.001\n",
    "EPOCHS = 100\n",
    "BATCH_SIZE = 256"
   ]
  },
  {
   "cell_type": "code",
   "execution_count": 18,
   "metadata": {},
   "outputs": [],
   "source": [
    "optimizer = keras.optimizers.Adam(lr=LEARNING_RATE)\n",
    "model.compile(loss=\"categorical_crossentropy\", metrics=[\"accuracy\"], optimizer=optimizer)"
   ]
  },
  {
   "cell_type": "code",
   "execution_count": 19,
   "metadata": {},
   "outputs": [
    {
     "name": "stdout",
     "output_type": "stream",
     "text": [
      "Train on 50000 samples, validate on 10000 samples\n",
      "Epoch 1/100\n",
      "50000/50000 [==============================] - 8s 160us/step - loss: 2.2451 - accuracy: 0.1674 - val_loss: 2.1612 - val_accuracy: 0.1933\n",
      "Epoch 2/100\n",
      "50000/50000 [==============================] - 8s 160us/step - loss: 2.1055 - accuracy: 0.2314 - val_loss: 2.0758 - val_accuracy: 0.2402\n",
      "Epoch 3/100\n",
      "50000/50000 [==============================] - 9s 172us/step - loss: 2.0379 - accuracy: 0.2636 - val_loss: 2.0439 - val_accuracy: 0.2589\n",
      "Epoch 4/100\n",
      "50000/50000 [==============================] - 8s 166us/step - loss: 1.9874 - accuracy: 0.2831 - val_loss: 2.0114 - val_accuracy: 0.2713\n",
      "Epoch 5/100\n",
      "50000/50000 [==============================] - 9s 176us/step - loss: 1.9499 - accuracy: 0.2992 - val_loss: 1.9968 - val_accuracy: 0.2717\n",
      "Epoch 6/100\n",
      "50000/50000 [==============================] - 9s 170us/step - loss: 1.9123 - accuracy: 0.3153 - val_loss: 1.9732 - val_accuracy: 0.2859\n",
      "Epoch 7/100\n",
      "50000/50000 [==============================] - 9s 174us/step - loss: 1.8808 - accuracy: 0.3277 - val_loss: 1.9747 - val_accuracy: 0.2852\n",
      "Epoch 8/100\n",
      "50000/50000 [==============================] - 8s 167us/step - loss: 1.8524 - accuracy: 0.3397 - val_loss: 1.9534 - val_accuracy: 0.2987\n",
      "Epoch 9/100\n",
      "50000/50000 [==============================] - 8s 165us/step - loss: 1.8207 - accuracy: 0.3499 - val_loss: 1.9542 - val_accuracy: 0.3010\n",
      "Epoch 10/100\n",
      "50000/50000 [==============================] - 8s 168us/step - loss: 1.7858 - accuracy: 0.3632 - val_loss: 1.9758 - val_accuracy: 0.2920\n",
      "Epoch 11/100\n",
      "50000/50000 [==============================] - 9s 178us/step - loss: 1.7460 - accuracy: 0.3797 - val_loss: 1.9609 - val_accuracy: 0.3010\n",
      "Epoch 12/100\n",
      "50000/50000 [==============================] - 9s 188us/step - loss: 1.7153 - accuracy: 0.3898 - val_loss: 1.9667 - val_accuracy: 0.3018\n",
      "Epoch 13/100\n",
      "50000/50000 [==============================] - 9s 181us/step - loss: 1.6830 - accuracy: 0.4010 - val_loss: 1.9816 - val_accuracy: 0.3110\n",
      "Epoch 14/100\n",
      "50000/50000 [==============================] - 10s 196us/step - loss: 1.6498 - accuracy: 0.4157 - val_loss: 1.9814 - val_accuracy: 0.3040\n",
      "Epoch 15/100\n",
      "50000/50000 [==============================] - 9s 172us/step - loss: 1.6070 - accuracy: 0.4303 - val_loss: 2.0196 - val_accuracy: 0.3124\n",
      "Epoch 16/100\n",
      "50000/50000 [==============================] - 8s 167us/step - loss: 1.5658 - accuracy: 0.4453 - val_loss: 2.0283 - val_accuracy: 0.3130\n",
      "Epoch 17/100\n",
      "50000/50000 [==============================] - 8s 168us/step - loss: 1.5278 - accuracy: 0.4614 - val_loss: 2.0425 - val_accuracy: 0.3055\n",
      "Epoch 18/100\n",
      "50000/50000 [==============================] - 8s 166us/step - loss: 1.5057 - accuracy: 0.4670 - val_loss: 2.0731 - val_accuracy: 0.3021\n",
      "Epoch 19/100\n",
      "50000/50000 [==============================] - 8s 165us/step - loss: 1.4651 - accuracy: 0.4824 - val_loss: 2.0767 - val_accuracy: 0.3087\n",
      "Epoch 20/100\n",
      "50000/50000 [==============================] - 8s 166us/step - loss: 1.4249 - accuracy: 0.4982 - val_loss: 2.1229 - val_accuracy: 0.3021\n",
      "Epoch 21/100\n",
      "50000/50000 [==============================] - 8s 163us/step - loss: 1.3871 - accuracy: 0.5108 - val_loss: 2.2236 - val_accuracy: 0.2891\n",
      "Epoch 22/100\n",
      "50000/50000 [==============================] - 8s 170us/step - loss: 1.3477 - accuracy: 0.5244 - val_loss: 2.1483 - val_accuracy: 0.3035\n",
      "Epoch 23/100\n",
      "50000/50000 [==============================] - 8s 165us/step - loss: 1.3138 - accuracy: 0.5370 - val_loss: 2.2204 - val_accuracy: 0.2988\n",
      "Epoch 24/100\n",
      "50000/50000 [==============================] - 8s 166us/step - loss: 1.2708 - accuracy: 0.5522 - val_loss: 2.2192 - val_accuracy: 0.2989\n",
      "Epoch 25/100\n",
      "50000/50000 [==============================] - 8s 167us/step - loss: 1.2145 - accuracy: 0.5745 - val_loss: 2.2912 - val_accuracy: 0.3094\n",
      "Epoch 26/100\n",
      "50000/50000 [==============================] - 8s 165us/step - loss: 1.1938 - accuracy: 0.5801 - val_loss: 2.3043 - val_accuracy: 0.2989\n",
      "Epoch 27/100\n",
      "50000/50000 [==============================] - 8s 167us/step - loss: 1.1612 - accuracy: 0.5938 - val_loss: 2.4209 - val_accuracy: 0.2893\n",
      "Epoch 28/100\n",
      "50000/50000 [==============================] - 8s 168us/step - loss: 1.1168 - accuracy: 0.6087 - val_loss: 2.4236 - val_accuracy: 0.2983\n",
      "Epoch 29/100\n",
      "50000/50000 [==============================] - 8s 167us/step - loss: 1.0799 - accuracy: 0.6238 - val_loss: 2.4776 - val_accuracy: 0.2948\n",
      "Epoch 30/100\n",
      "50000/50000 [==============================] - 8s 167us/step - loss: 1.0664 - accuracy: 0.6253 - val_loss: 2.5995 - val_accuracy: 0.2942\n",
      "Epoch 31/100\n",
      "50000/50000 [==============================] - 8s 167us/step - loss: 1.0255 - accuracy: 0.6400 - val_loss: 2.6260 - val_accuracy: 0.2949\n",
      "Epoch 32/100\n",
      "50000/50000 [==============================] - 8s 166us/step - loss: 0.9895 - accuracy: 0.6547 - val_loss: 2.5990 - val_accuracy: 0.2926\n",
      "Epoch 33/100\n",
      "50000/50000 [==============================] - 8s 169us/step - loss: 0.9381 - accuracy: 0.6732 - val_loss: 2.7754 - val_accuracy: 0.2869\n",
      "Epoch 34/100\n",
      "50000/50000 [==============================] - 8s 167us/step - loss: 0.9080 - accuracy: 0.6840 - val_loss: 2.7987 - val_accuracy: 0.2886\n",
      "Epoch 35/100\n",
      "50000/50000 [==============================] - 8s 168us/step - loss: 0.8674 - accuracy: 0.6987 - val_loss: 2.8803 - val_accuracy: 0.2895\n",
      "Epoch 36/100\n",
      "50000/50000 [==============================] - 8s 168us/step - loss: 0.8275 - accuracy: 0.7127 - val_loss: 2.9804 - val_accuracy: 0.2845\n",
      "Epoch 37/100\n",
      "50000/50000 [==============================] - 8s 166us/step - loss: 0.8281 - accuracy: 0.7116 - val_loss: 3.1449 - val_accuracy: 0.2855\n",
      "Epoch 38/100\n",
      "50000/50000 [==============================] - 8s 168us/step - loss: 0.7783 - accuracy: 0.7313 - val_loss: 3.0470 - val_accuracy: 0.2903\n",
      "Epoch 39/100\n",
      "50000/50000 [==============================] - 8s 170us/step - loss: 0.7326 - accuracy: 0.7458 - val_loss: 3.1399 - val_accuracy: 0.2869\n",
      "Epoch 40/100\n",
      "50000/50000 [==============================] - 8s 166us/step - loss: 0.7237 - accuracy: 0.7494 - val_loss: 3.3073 - val_accuracy: 0.2848\n",
      "Epoch 41/100\n",
      "50000/50000 [==============================] - 8s 168us/step - loss: 0.6843 - accuracy: 0.7646 - val_loss: 3.3295 - val_accuracy: 0.2790\n",
      "Epoch 42/100\n",
      "50000/50000 [==============================] - 8s 168us/step - loss: 0.6744 - accuracy: 0.7683 - val_loss: 3.5358 - val_accuracy: 0.2775\n",
      "Epoch 43/100\n",
      "50000/50000 [==============================] - 8s 166us/step - loss: 0.6563 - accuracy: 0.7723 - val_loss: 3.5014 - val_accuracy: 0.2858\n",
      "Epoch 44/100\n",
      "50000/50000 [==============================] - 8s 166us/step - loss: 0.6056 - accuracy: 0.7915 - val_loss: 3.5228 - val_accuracy: 0.2788\n",
      "Epoch 45/100\n",
      "50000/50000 [==============================] - 8s 166us/step - loss: 0.6100 - accuracy: 0.7885 - val_loss: 3.6420 - val_accuracy: 0.2904\n",
      "Epoch 46/100\n",
      "50000/50000 [==============================] - 8s 165us/step - loss: 0.5678 - accuracy: 0.8039 - val_loss: 3.9200 - val_accuracy: 0.2873\n",
      "Epoch 47/100\n",
      "50000/50000 [==============================] - 8s 164us/step - loss: 0.5483 - accuracy: 0.8110 - val_loss: 3.9615 - val_accuracy: 0.2780\n",
      "Epoch 48/100\n",
      "50000/50000 [==============================] - 8s 161us/step - loss: 0.5603 - accuracy: 0.8071 - val_loss: 3.9512 - val_accuracy: 0.2751\n",
      "Epoch 49/100\n",
      "50000/50000 [==============================] - 8s 164us/step - loss: 0.5120 - accuracy: 0.8256 - val_loss: 3.9912 - val_accuracy: 0.2766\n",
      "Epoch 50/100\n",
      "50000/50000 [==============================] - 8s 164us/step - loss: 0.4841 - accuracy: 0.8342 - val_loss: 4.1008 - val_accuracy: 0.2795\n",
      "Epoch 51/100\n",
      "50000/50000 [==============================] - 8s 166us/step - loss: 0.4480 - accuracy: 0.8491 - val_loss: 4.1599 - val_accuracy: 0.2779\n",
      "Epoch 52/100\n",
      "50000/50000 [==============================] - 8s 165us/step - loss: 0.4755 - accuracy: 0.8351 - val_loss: 4.4141 - val_accuracy: 0.2771\n",
      "Epoch 53/100\n",
      "50000/50000 [==============================] - 8s 163us/step - loss: 0.4271 - accuracy: 0.8567 - val_loss: 4.5409 - val_accuracy: 0.2799\n",
      "Epoch 54/100\n",
      "50000/50000 [==============================] - 8s 165us/step - loss: 0.4229 - accuracy: 0.8554 - val_loss: 4.8780 - val_accuracy: 0.2734\n",
      "Epoch 55/100\n"
     ]
    },
    {
     "name": "stdout",
     "output_type": "stream",
     "text": [
      "50000/50000 [==============================] - 8s 162us/step - loss: 0.4044 - accuracy: 0.8633 - val_loss: 4.7623 - val_accuracy: 0.2761\n",
      "Epoch 56/100\n",
      "50000/50000 [==============================] - 8s 161us/step - loss: 0.4114 - accuracy: 0.8571 - val_loss: 4.7447 - val_accuracy: 0.2760\n",
      "Epoch 57/100\n",
      "50000/50000 [==============================] - 8s 162us/step - loss: 0.3767 - accuracy: 0.8716 - val_loss: 4.8252 - val_accuracy: 0.2760\n",
      "Epoch 58/100\n",
      "50000/50000 [==============================] - 8s 162us/step - loss: 0.3323 - accuracy: 0.8880 - val_loss: 5.0225 - val_accuracy: 0.2738\n",
      "Epoch 59/100\n",
      "50000/50000 [==============================] - 8s 161us/step - loss: 0.3422 - accuracy: 0.8848 - val_loss: 4.8665 - val_accuracy: 0.2791\n",
      "Epoch 60/100\n",
      "50000/50000 [==============================] - 8s 163us/step - loss: 0.3692 - accuracy: 0.8729 - val_loss: 5.2960 - val_accuracy: 0.2643\n",
      "Epoch 61/100\n",
      "50000/50000 [==============================] - 8s 163us/step - loss: 0.3906 - accuracy: 0.8640 - val_loss: 5.0722 - val_accuracy: 0.2776\n",
      "Epoch 62/100\n",
      "50000/50000 [==============================] - 8s 162us/step - loss: 0.3108 - accuracy: 0.8949 - val_loss: 5.4153 - val_accuracy: 0.2668\n",
      "Epoch 63/100\n",
      "50000/50000 [==============================] - 8s 163us/step - loss: 0.2749 - accuracy: 0.9088 - val_loss: 5.4112 - val_accuracy: 0.2739\n",
      "Epoch 64/100\n",
      "50000/50000 [==============================] - 8s 159us/step - loss: 0.3038 - accuracy: 0.8958 - val_loss: 5.7084 - val_accuracy: 0.2671\n",
      "Epoch 65/100\n",
      "50000/50000 [==============================] - 8s 162us/step - loss: 0.2626 - accuracy: 0.9126 - val_loss: 5.8124 - val_accuracy: 0.2706\n",
      "Epoch 66/100\n",
      "50000/50000 [==============================] - 8s 164us/step - loss: 0.3358 - accuracy: 0.8837 - val_loss: 5.5511 - val_accuracy: 0.2672\n",
      "Epoch 67/100\n",
      "50000/50000 [==============================] - 8s 162us/step - loss: 0.3029 - accuracy: 0.8956 - val_loss: 5.9018 - val_accuracy: 0.2658\n",
      "Epoch 68/100\n",
      "50000/50000 [==============================] - 8s 162us/step - loss: 0.2374 - accuracy: 0.9204 - val_loss: 6.1451 - val_accuracy: 0.2696\n",
      "Epoch 69/100\n",
      "50000/50000 [==============================] - 8s 162us/step - loss: 0.2309 - accuracy: 0.9229 - val_loss: 5.8791 - val_accuracy: 0.2737\n",
      "Epoch 70/100\n",
      "50000/50000 [==============================] - 8s 161us/step - loss: 0.2306 - accuracy: 0.9244 - val_loss: 5.9839 - val_accuracy: 0.2703\n",
      "Epoch 71/100\n",
      "50000/50000 [==============================] - 8s 162us/step - loss: 0.2752 - accuracy: 0.9051 - val_loss: 6.1399 - val_accuracy: 0.2713\n",
      "Epoch 72/100\n",
      "50000/50000 [==============================] - 8s 163us/step - loss: 0.2194 - accuracy: 0.9269 - val_loss: 6.4369 - val_accuracy: 0.2690\n",
      "Epoch 73/100\n",
      "50000/50000 [==============================] - 8s 163us/step - loss: 0.2870 - accuracy: 0.8995 - val_loss: 6.4740 - val_accuracy: 0.2682\n",
      "Epoch 74/100\n",
      "50000/50000 [==============================] - 8s 162us/step - loss: 0.2182 - accuracy: 0.9256 - val_loss: 6.3326 - val_accuracy: 0.2676\n",
      "Epoch 75/100\n",
      "50000/50000 [==============================] - 8s 162us/step - loss: 0.2809 - accuracy: 0.9034 - val_loss: 6.1375 - val_accuracy: 0.2728\n",
      "Epoch 76/100\n",
      "50000/50000 [==============================] - 8s 162us/step - loss: 0.1812 - accuracy: 0.9411 - val_loss: 6.6343 - val_accuracy: 0.2747\n",
      "Epoch 77/100\n",
      "50000/50000 [==============================] - 8s 163us/step - loss: 0.1965 - accuracy: 0.9346 - val_loss: 6.7560 - val_accuracy: 0.2684\n",
      "Epoch 78/100\n",
      "50000/50000 [==============================] - 8s 163us/step - loss: 0.2417 - accuracy: 0.9188 - val_loss: 6.6369 - val_accuracy: 0.2639\n",
      "Epoch 79/100\n",
      "50000/50000 [==============================] - 8s 162us/step - loss: 0.2071 - accuracy: 0.9291 - val_loss: 7.1150 - val_accuracy: 0.2697\n",
      "Epoch 80/100\n",
      "50000/50000 [==============================] - 8s 162us/step - loss: 0.2233 - accuracy: 0.9236 - val_loss: 6.7875 - val_accuracy: 0.2631\n",
      "Epoch 81/100\n",
      "50000/50000 [==============================] - 8s 161us/step - loss: 0.1339 - accuracy: 0.9580 - val_loss: 6.9598 - val_accuracy: 0.2670\n",
      "Epoch 82/100\n",
      "50000/50000 [==============================] - 8s 163us/step - loss: 0.2753 - accuracy: 0.9050 - val_loss: 6.8006 - val_accuracy: 0.2638\n",
      "Epoch 83/100\n",
      "50000/50000 [==============================] - 8s 164us/step - loss: 0.2366 - accuracy: 0.9195 - val_loss: 6.9213 - val_accuracy: 0.2696\n",
      "Epoch 84/100\n",
      "50000/50000 [==============================] - 8s 162us/step - loss: 0.1677 - accuracy: 0.9451 - val_loss: 7.2022 - val_accuracy: 0.2762\n",
      "Epoch 85/100\n",
      "50000/50000 [==============================] - 8s 162us/step - loss: 0.2422 - accuracy: 0.9166 - val_loss: 7.1656 - val_accuracy: 0.2660\n",
      "Epoch 86/100\n",
      "50000/50000 [==============================] - 8s 162us/step - loss: 0.1664 - accuracy: 0.9441 - val_loss: 7.2353 - val_accuracy: 0.2678\n",
      "Epoch 87/100\n",
      "50000/50000 [==============================] - 8s 162us/step - loss: 0.1291 - accuracy: 0.9568 - val_loss: 7.2051 - val_accuracy: 0.2707\n",
      "Epoch 88/100\n",
      "50000/50000 [==============================] - 8s 163us/step - loss: 0.1752 - accuracy: 0.9389 - val_loss: 7.2334 - val_accuracy: 0.2733\n",
      "Epoch 89/100\n",
      "50000/50000 [==============================] - 8s 164us/step - loss: 0.2716 - accuracy: 0.9073 - val_loss: 7.3333 - val_accuracy: 0.2703\n",
      "Epoch 90/100\n",
      "50000/50000 [==============================] - 8s 163us/step - loss: 0.1766 - accuracy: 0.9413 - val_loss: 7.3211 - val_accuracy: 0.2736\n",
      "Epoch 91/100\n",
      "50000/50000 [==============================] - 8s 163us/step - loss: 0.1675 - accuracy: 0.9430 - val_loss: 7.9140 - val_accuracy: 0.2624\n",
      "Epoch 92/100\n",
      "50000/50000 [==============================] - 8s 160us/step - loss: 0.1262 - accuracy: 0.9588 - val_loss: 7.7144 - val_accuracy: 0.2720\n",
      "Epoch 93/100\n",
      "50000/50000 [==============================] - 8s 162us/step - loss: 0.1546 - accuracy: 0.9485 - val_loss: 7.7106 - val_accuracy: 0.2709\n",
      "Epoch 94/100\n",
      "50000/50000 [==============================] - 8s 162us/step - loss: 0.2665 - accuracy: 0.9079 - val_loss: 7.8584 - val_accuracy: 0.2601\n",
      "Epoch 95/100\n",
      "50000/50000 [==============================] - 8s 162us/step - loss: 0.1779 - accuracy: 0.9417 - val_loss: 7.5221 - val_accuracy: 0.2754\n",
      "Epoch 96/100\n",
      "50000/50000 [==============================] - 8s 164us/step - loss: 0.1224 - accuracy: 0.9598 - val_loss: 7.9472 - val_accuracy: 0.2709\n",
      "Epoch 97/100\n",
      "50000/50000 [==============================] - 8s 162us/step - loss: 0.1823 - accuracy: 0.9378 - val_loss: 7.6776 - val_accuracy: 0.2659\n",
      "Epoch 98/100\n",
      "50000/50000 [==============================] - 8s 163us/step - loss: 0.1230 - accuracy: 0.9593 - val_loss: 8.3506 - val_accuracy: 0.2605\n",
      "Epoch 99/100\n",
      "50000/50000 [==============================] - 8s 163us/step - loss: 0.1933 - accuracy: 0.9341 - val_loss: 7.9325 - val_accuracy: 0.2696\n",
      "Epoch 100/100\n",
      "50000/50000 [==============================] - 8s 164us/step - loss: 0.1575 - accuracy: 0.9458 - val_loss: 8.0081 - val_accuracy: 0.2757\n"
     ]
    },
    {
     "data": {
      "text/plain": [
       "<keras.callbacks.callbacks.History at 0x1f1dd2ed908>"
      ]
     },
     "execution_count": 19,
     "metadata": {},
     "output_type": "execute_result"
    }
   ],
   "source": [
    "model.fit(x_train, y_train, \n",
    "          epochs=EPOCHS, \n",
    "          batch_size=BATCH_SIZE, \n",
    "          validation_data=(x_test, y_test), \n",
    "          shuffle=True)"
   ]
  },
  {
   "cell_type": "code",
   "execution_count": 20,
   "metadata": {},
   "outputs": [
    {
     "data": {
      "image/png": "[encoded data removed]",
      "text/plain": [
       "<Figure size 432x288 with 1 Axes>"
      ]
     },
     "metadata": {
      "needs_background": "light"
     },
     "output_type": "display_data"
    },
    {
     "data": {
      "image/png": "[encoded data removed]",
      "text/plain": [
       "<Figure size 432x288 with 1 Axes>"
      ]
     },
     "metadata": {
      "needs_background": "light"
     },
     "output_type": "display_data"
    }
   ],
   "source": [
    "import matplotlib.pyplot as plt\n",
    "\n",
    "\n",
    "train_loss = model.history.history[\"loss\"]\n",
    "valid_loss = model.history.history[\"val_loss\"]\n",
    "\n",
    "train_acc = model.history.history[\"accuracy\"]\n",
    "valid_acc = model.history.history[\"val_accuracy\"]\n",
    "\n",
    "plt.plot(range(len(train_loss)), train_loss, label=\"train loss\")\n",
    "plt.plot(range(len(valid_loss)), valid_loss, label=\"valid loss\")\n",
    "plt.legend()\n",
    "plt.title(\"Loss\")\n",
    "plt.show()\n",
    "\n",
    "plt.plot(range(len(train_acc)), train_acc, label=\"train accuracy\")\n",
    "plt.plot(range(len(valid_acc)), valid_acc, label=\"valid accuracy\")\n",
    "plt.legend()\n",
    "plt.title(\"Accuracy\")\n",
    "plt.show()"
   ]
  }
 ],
 "metadata": {
  "kernelspec": {
   "display_name": "Python 3",
   "language": "python",
   "name": "python3"
  },
  "language_info": {
   "codemirror_mode": {
    "name": "ipython",
    "version": 3
   },
   "file_extension": ".py",
   "mimetype": "text/x-python",
   "name": "python",
   "nbconvert_exporter": "python",
   "pygments_lexer": "ipython3",
   "version": "3.7.3"
  }
 },
 "nbformat": 4,
 "nbformat_minor": 2
}

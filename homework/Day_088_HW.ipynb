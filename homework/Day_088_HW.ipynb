{
 "cells": [
  {
   "cell_type": "markdown",
   "metadata": {},
   "source": [
    "## Work\n",
    "1. 請嘗試寫一個 callback 用來記錄各類別在訓練過程中，對驗證集的 True Positive 與 True Negative"
   ]
  },
  {
   "cell_type": "code",
   "execution_count": 21,
   "metadata": {},
   "outputs": [],
   "source": [
    "import os\n",
    "import keras\n",
    "import numpy as np\n",
    "\n",
    "# Disable GPU\n",
    "os.environ[\"CUDA_VISIBLE_DEVICES\"] = \"\""
   ]
  },
  {
   "cell_type": "code",
   "execution_count": 22,
   "metadata": {},
   "outputs": [],
   "source": [
    "train, test = keras.datasets.cifar10.load_data()"
   ]
  },
  {
   "cell_type": "code",
   "execution_count": 23,
   "metadata": {},
   "outputs": [],
   "source": [
    "## 資料前處理\n",
    "def preproc_x(x, flatten=True):\n",
    "    x = x / 255.\n",
    "    if flatten:\n",
    "        x = x.reshape((len(x), -1))\n",
    "    return x\n",
    "\n",
    "def preproc_y(y, num_classes=10):\n",
    "    if y.shape[-1] == 1:\n",
    "        y = keras.utils.to_categorical(y, num_classes)\n",
    "    return y    "
   ]
  },
  {
   "cell_type": "code",
   "execution_count": 24,
   "metadata": {},
   "outputs": [],
   "source": [
    "x_train, y_train = train\n",
    "x_test, y_test = test\n",
    "\n",
    "# Preproc the inputs\n",
    "x_train = preproc_x(x_train)\n",
    "x_test = preproc_x(x_test)\n",
    "\n",
    "# Preprc the outputs\n",
    "y_train = preproc_y(y_train)\n",
    "y_test = preproc_y(y_test)"
   ]
  },
  {
   "cell_type": "code",
   "execution_count": 25,
   "metadata": {},
   "outputs": [],
   "source": [
    "from keras.layers import BatchNormalization\n",
    "def build_mlp(input_shape, output_units=10, num_neurons=[256, 256, 256]):\n",
    "    \"\"\"Code Here\n",
    "    建立你的神經網路\n",
    "    \"\"\"\n",
    "    input_layer = keras.layers.Input(input_shape)\n",
    "    \n",
    "    for i, n_units in enumerate(num_neurons):\n",
    "        if i == 0:\n",
    "            x = keras.layers.Dense(units=n_units, \n",
    "                                   activation=\"relu\", \n",
    "                                   name=\"hidden_layer\"+str(i+1))(input_layer)\n",
    "            x = BatchNormalization()(x)\n",
    "        else:\n",
    "            x = keras.layers.Dense(units=n_units, \n",
    "                                   activation=\"relu\", \n",
    "                                   name=\"hidden_layer\"+str(i+1))(x)\n",
    "            x = BatchNormalization()(x)\n",
    "    \n",
    "    out = keras.layers.Dense(units=output_units, activation=\"softmax\", name=\"output\")(x)\n",
    "    \n",
    "    model = keras.models.Model(inputs=[input_layer], outputs=[out])\n",
    "        \n",
    "    return model"
   ]
  },
  {
   "cell_type": "code",
   "execution_count": 26,
   "metadata": {},
   "outputs": [],
   "source": [
    "## 超參數設定\n",
    "LEARNING_RATE = 1e-3\n",
    "EPOCHS = 25\n",
    "BATCH_SIZE = 1024\n",
    "MOMENTUM = 0.95"
   ]
  },
  {
   "cell_type": "code",
   "execution_count": 27,
   "metadata": {},
   "outputs": [],
   "source": [
    "# 載入 Callbacks\n",
    "from keras.callbacks import Callback\n",
    "\n",
    "# Record_fp_tp\n",
    "class Record_tp_tn(Callback):\n",
    "    \"\"\"Code Here\n",
    "    撰寫一個紀錄 ture positive 與 true negative 數量的 callbacks    \n",
    "    \"\"\"\n",
    "    def on_train_begin(self, epoch, logs = {}):\n",
    "        logs = logs or {}\n",
    "        record_items = ['val_tp', 'val_tn', 'val_fp', 'val_fn']\n",
    "        for i in record_items:\n",
    "            if i not in self.params['metrics']:\n",
    "                self.params['metrics'].append(i)\n",
    "        \n",
    "    def on_epoch_end(self, epoch, logs = {}, thres = 0.5):\n",
    "        logs = logs or {}\n",
    "        y_true = self.validation_data[1].argmax(axis = 1)\n",
    "        y_pred = self.model.predict(self.validation_data[0])\n",
    "        y_pred = (y_pred[:, 1] >= thres) * 1\n",
    "        \n",
    "        logs[\"val_tp\"] = np.sum(np.logical_and(y_pred == 1, y_true == 1))\n",
    "        logs[\"val_tn\"] = np.sum(np.logical_and(y_pred == 0, y_true == 0))\n",
    "        \n",
    "rec_tptn = Record_tp_tn()"
   ]
  },
  {
   "cell_type": "code",
   "execution_count": 28,
   "metadata": {
    "scrolled": true
   },
   "outputs": [
    {
     "name": "stdout",
     "output_type": "stream",
     "text": [
      "Model: \"model_2\"\n",
      "_________________________________________________________________\n",
      "Layer (type)                 Output Shape              Param #   \n",
      "=================================================================\n",
      "input_2 (InputLayer)         (None, 3072)              0         \n",
      "_________________________________________________________________\n",
      "hidden_layer1 (Dense)        (None, 256)               786688    \n",
      "_________________________________________________________________\n",
      "batch_normalization_4 (Batch (None, 256)               1024      \n",
      "_________________________________________________________________\n",
      "hidden_layer2 (Dense)        (None, 256)               65792     \n",
      "_________________________________________________________________\n",
      "batch_normalization_5 (Batch (None, 256)               1024      \n",
      "_________________________________________________________________\n",
      "hidden_layer3 (Dense)        (None, 256)               65792     \n",
      "_________________________________________________________________\n",
      "batch_normalization_6 (Batch (None, 256)               1024      \n",
      "_________________________________________________________________\n",
      "output (Dense)               (None, 10)                2570      \n",
      "=================================================================\n",
      "Total params: 923,914\n",
      "Trainable params: 922,378\n",
      "Non-trainable params: 1,536\n",
      "_________________________________________________________________\n",
      "Train on 50000 samples, validate on 10000 samples\n",
      "Epoch 1/25\n",
      "50000/50000 [==============================] - 4s 75us/step - loss: 2.2281 - accuracy: 0.2620 - val_loss: 2.1352 - val_accuracy: 0.2261\n",
      "Epoch 2/25\n",
      "50000/50000 [==============================] - 3s 68us/step - loss: 1.7744 - accuracy: 0.3822 - val_loss: 2.0041 - val_accuracy: 0.2911\n",
      "Epoch 3/25\n",
      "50000/50000 [==============================] - 3s 63us/step - loss: 1.6464 - accuracy: 0.4240 - val_loss: 1.8623 - val_accuracy: 0.3609\n",
      "Epoch 4/25\n",
      "50000/50000 [==============================] - 3s 66us/step - loss: 1.5720 - accuracy: 0.4506 - val_loss: 1.7446 - val_accuracy: 0.3931\n",
      "Epoch 5/25\n",
      "50000/50000 [==============================] - 3s 61us/step - loss: 1.5181 - accuracy: 0.4660 - val_loss: 1.6552 - val_accuracy: 0.4278\n",
      "Epoch 6/25\n",
      "50000/50000 [==============================] - 3s 56us/step - loss: 1.4706 - accuracy: 0.4855 - val_loss: 1.6076 - val_accuracy: 0.4343\n",
      "Epoch 7/25\n",
      "50000/50000 [==============================] - 3s 56us/step - loss: 1.4351 - accuracy: 0.4988 - val_loss: 1.5639 - val_accuracy: 0.4500\n",
      "Epoch 8/25\n",
      "50000/50000 [==============================] - 3s 54us/step - loss: 1.4006 - accuracy: 0.5126 - val_loss: 1.5424 - val_accuracy: 0.4559\n",
      "Epoch 9/25\n",
      "50000/50000 [==============================] - 3s 55us/step - loss: 1.3686 - accuracy: 0.5238 - val_loss: 1.5240 - val_accuracy: 0.4634\n",
      "Epoch 10/25\n",
      "50000/50000 [==============================] - 3s 56us/step - loss: 1.3406 - accuracy: 0.5335 - val_loss: 1.4981 - val_accuracy: 0.4713\n",
      "Epoch 11/25\n",
      "50000/50000 [==============================] - 3s 55us/step - loss: 1.3142 - accuracy: 0.5438 - val_loss: 1.4856 - val_accuracy: 0.4726\n",
      "Epoch 12/25\n",
      "50000/50000 [==============================] - 3s 56us/step - loss: 1.2910 - accuracy: 0.5513 - val_loss: 1.4814 - val_accuracy: 0.4766\n",
      "Epoch 13/25\n",
      "50000/50000 [==============================] - 3s 56us/step - loss: 1.2668 - accuracy: 0.5592 - val_loss: 1.4932 - val_accuracy: 0.4796\n",
      "Epoch 14/25\n",
      "50000/50000 [==============================] - 3s 56us/step - loss: 1.2469 - accuracy: 0.5652 - val_loss: 1.4696 - val_accuracy: 0.4863\n",
      "Epoch 15/25\n",
      "50000/50000 [==============================] - 3s 56us/step - loss: 1.2255 - accuracy: 0.5747 - val_loss: 1.4808 - val_accuracy: 0.4802\n",
      "Epoch 16/25\n",
      "50000/50000 [==============================] - 3s 57us/step - loss: 1.2049 - accuracy: 0.5824 - val_loss: 1.4740 - val_accuracy: 0.4846\n",
      "Epoch 17/25\n",
      "50000/50000 [==============================] - 3s 57us/step - loss: 1.1875 - accuracy: 0.5894 - val_loss: 1.4611 - val_accuracy: 0.4929\n",
      "Epoch 18/25\n",
      "50000/50000 [==============================] - 3s 56us/step - loss: 1.1681 - accuracy: 0.5966 - val_loss: 1.4550 - val_accuracy: 0.4883\n",
      "Epoch 19/25\n",
      "50000/50000 [==============================] - 3s 56us/step - loss: 1.1511 - accuracy: 0.6032 - val_loss: 1.4593 - val_accuracy: 0.4905\n",
      "Epoch 20/25\n",
      "50000/50000 [==============================] - 3s 56us/step - loss: 1.1321 - accuracy: 0.6096 - val_loss: 1.4505 - val_accuracy: 0.4923\n",
      "Epoch 21/25\n",
      "50000/50000 [==============================] - 3s 57us/step - loss: 1.1168 - accuracy: 0.6170 - val_loss: 1.4658 - val_accuracy: 0.4863\n",
      "Epoch 22/25\n",
      "50000/50000 [==============================] - 3s 56us/step - loss: 1.0995 - accuracy: 0.6244 - val_loss: 1.4472 - val_accuracy: 0.4971\n",
      "Epoch 23/25\n",
      "50000/50000 [==============================] - 3s 56us/step - loss: 1.0822 - accuracy: 0.6293 - val_loss: 1.4560 - val_accuracy: 0.4951\n",
      "Epoch 24/25\n",
      "50000/50000 [==============================] - 3s 56us/step - loss: 1.0647 - accuracy: 0.6349 - val_loss: 1.4437 - val_accuracy: 0.4983\n",
      "Epoch 25/25\n",
      "50000/50000 [==============================] - 3s 56us/step - loss: 1.0488 - accuracy: 0.6425 - val_loss: 1.4585 - val_accuracy: 0.4940\n"
     ]
    }
   ],
   "source": [
    "model = build_mlp(input_shape=x_train.shape[1:])\n",
    "model.summary()\n",
    "optimizer = keras.optimizers.SGD(lr=LEARNING_RATE, nesterov=True, momentum=MOMENTUM)\n",
    "model.compile(loss=\"categorical_crossentropy\", metrics=[\"accuracy\"], optimizer=optimizer)\n",
    "\n",
    "\"\"\"Code Here\n",
    "將 callbacks 放入模型訓練流程中\n",
    "\"\"\"\n",
    "model.fit(x_train, y_train, \n",
    "          epochs=EPOCHS, \n",
    "          batch_size=BATCH_SIZE, \n",
    "          validation_data=(x_test, y_test), \n",
    "          shuffle=True,\n",
    "          callbacks=[rec_tptn])\n",
    "\n",
    "# Collect results\n",
    "train_loss = model.history.history[\"loss\"]\n",
    "valid_loss = model.history.history[\"val_loss\"]\n",
    "train_acc = model.history.history[\"accuracy\"]\n",
    "valid_acc = model.history.history[\"val_accuracy\"]\n",
    "\n",
    "\"\"\"Code Here\n",
    "將 tp/tn 從訓練完的模型中取出\n",
    "\"\"\"\n",
    "valid_tp = model.history.history['val_tp']\n",
    "valid_tn = model.history.history['val_tn']"
   ]
  },
  {
   "cell_type": "code",
   "execution_count": 29,
   "metadata": {},
   "outputs": [
    {
     "data": {
      "image/png": "[encoded data removed]",
      "text/plain": [
       "<Figure size 432x288 with 1 Axes>"
      ]
     },
     "metadata": {
      "needs_background": "light"
     },
     "output_type": "display_data"
    },
    {
     "data": {
      "image/png": "[encoded data removed]",
      "text/plain": [
       "<Figure size 432x288 with 1 Axes>"
      ]
     },
     "metadata": {
      "needs_background": "light"
     },
     "output_type": "display_data"
    },
    {
     "data": {
      "image/png": "[encoded data removed]",
      "text/plain": [
       "<Figure size 432x288 with 1 Axes>"
      ]
     },
     "metadata": {
      "needs_background": "light"
     },
     "output_type": "display_data"
    }
   ],
   "source": [
    "import matplotlib.pyplot as plt\n",
    "%matplotlib inline\n",
    "\n",
    "plt.plot(range(len(train_loss)), train_loss, label=\"train loss\")\n",
    "plt.plot(range(len(valid_loss)), valid_loss, label=\"valid loss\")\n",
    "plt.legend()\n",
    "plt.title(\"Loss\")\n",
    "plt.show()\n",
    "\n",
    "plt.plot(range(len(train_acc)), train_acc, label=\"train accuracy\")\n",
    "plt.plot(range(len(valid_acc)), valid_acc, label=\"valid accuracy\")\n",
    "plt.legend()\n",
    "plt.title(\"Accuracy\")\n",
    "plt.show()\n",
    "\n",
    "plt.plot(range(len(valid_tp)), valid_tp, label=\"valid tp\", color=\"navy\")\n",
    "plt.plot(range(len(valid_tn)), valid_tn, label=\"valid tn\", color=\"red\")\n",
    "plt.legend()\n",
    "plt.title(\"True positives and True Negatives\")\n",
    "plt.show()\n"
   ]
  }
 ],
 "metadata": {
  "kernelspec": {
   "display_name": "Python 3",
   "language": "python",
   "name": "python3"
  },
  "language_info": {
   "codemirror_mode": {
    "name": "ipython",
    "version": 3
   },
   "file_extension": ".py",
   "mimetype": "text/x-python",
   "name": "python",
   "nbconvert_exporter": "python",
   "pygments_lexer": "ipython3",
   "version": "3.7.3"
  }
 },
 "nbformat": 4,
 "nbformat_minor": 2
}

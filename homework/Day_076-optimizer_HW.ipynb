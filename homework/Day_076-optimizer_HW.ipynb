{
 "cells": [
  {
   "cell_type": "markdown",
   "metadata": {},
   "source": [
    "# 作業重點:\n",
    "\n",
    "(1)以, Adam, 為例, 調整 batch_size, epoch , 觀察accurancy, loss 的變化\n",
    "\n",
    "(2)以同一模型, 分別驗證 SGD, Adam, Rmsprop 的 accurancy"
   ]
  },
  {
   "cell_type": "markdown",
   "metadata": {},
   "source": [
    "# 作業目標:\n",
    "    \n",
    "    取得各種優化器的運算結果"
   ]
  },
  {
   "cell_type": "code",
   "execution_count": 1,
   "metadata": {},
   "outputs": [
    {
     "name": "stderr",
     "output_type": "stream",
     "text": [
      "Using TensorFlow backend.\n"
     ]
    }
   ],
   "source": [
    "from __future__ import print_function\n",
    "import keras\n",
    "from keras.datasets import cifar10\n",
    "from keras.preprocessing.image import ImageDataGenerator\n",
    "from keras.models import Sequential\n",
    "from keras.layers import Dense, Dropout, Activation, Flatten\n",
    "from keras.layers import Conv2D, MaxPooling2D\n",
    "import os\n",
    "from keras import optimizers\n",
    "import matplotlib.pyplot as plt"
   ]
  },
  {
   "cell_type": "code",
   "execution_count": 2,
   "metadata": {},
   "outputs": [
    {
     "data": {
      "text/plain": [
       "'\\nimport tensorflow as tf\\ngpu_options = tf.GPUOptions(per_process_gpu_memory_fraction=0.333)\\nsess = tf.Session(config=tf.ConfigProto(gpu_options=gpu_options))\\n'"
      ]
     },
     "execution_count": 2,
     "metadata": {},
     "output_type": "execute_result"
    }
   ],
   "source": [
    "#Blas GEMM launch failed , 避免動態分配GPU / CPU, 出現問題\n",
    "'''\n",
    "import tensorflow as tf\n",
    "gpu_options = tf.GPUOptions(per_process_gpu_memory_fraction=0.333)\n",
    "sess = tf.Session(config=tf.ConfigProto(gpu_options=gpu_options))\n",
    "'''"
   ]
  },
  {
   "cell_type": "code",
   "execution_count": 3,
   "metadata": {},
   "outputs": [],
   "source": [
    "\n",
    "'''\n",
    "   宣告並設定\n",
    "   batch_size：對總的樣本數進行分組，每組包含的樣本數量\n",
    "   epochs ：訓練次數\n",
    "   \n",
    "''' \n",
    "\n",
    "batch_size = 64\n",
    "num_classes = 10\n",
    "epochs = 40\n",
    "data_augmentation = True\n",
    "num_predictions = 20\n",
    "save_dir = os.path.join(os.getcwd(), 'saved_models')\n",
    "model_name = 'keras_cifar10_trained_model.h5'\n"
   ]
  },
  {
   "cell_type": "code",
   "execution_count": 4,
   "metadata": {},
   "outputs": [
    {
     "name": "stdout",
     "output_type": "stream",
     "text": [
      "x_train shape: (50000, 32, 32, 3)\n",
      "50000 train samples\n",
      "10000 test samples\n"
     ]
    }
   ],
   "source": [
    "# 檢查Dataset 的描述與資訊\n",
    "# The data, split between train and test sets:\n",
    "(x_train, y_train), (x_test, y_test) = cifar10.load_data()\n",
    "print('x_train shape:', x_train.shape)\n",
    "print(x_train.shape[0], 'train samples')\n",
    "print(x_test.shape[0], 'test samples')\n",
    "\n",
    "# Convert class vectors to binary class matrices.\n",
    "y_train = keras.utils.to_categorical(y_train, num_classes)\n",
    "y_test = keras.utils.to_categorical(y_test, num_classes)"
   ]
  },
  {
   "cell_type": "code",
   "execution_count": 5,
   "metadata": {},
   "outputs": [],
   "source": [
    "#    第一步：選擇模型, 順序模型是多個網絡層的線性堆疊\n",
    " \n",
    "model = Sequential()\n",
    "\n",
    "#   第二步：構建網絡層\n",
    "model.add(Conv2D(32, (3, 3), padding='same',\n",
    "                 input_shape=x_train.shape[1:]))\n",
    "model.add(Activation('relu'))\n",
    "model.add(Conv2D(32, (3, 3)))\n",
    "model.add(Activation('relu'))\n",
    "model.add(MaxPooling2D(pool_size=(2, 2)))\n",
    "model.add(Dropout(0.25))\n",
    "\n",
    "model.add(Conv2D(64, (3, 3), padding='same'))\n",
    "model.add(Activation('relu'))\n",
    "model.add(Conv2D(64, (3, 3)))\n",
    "model.add(Activation('relu'))\n",
    "model.add(MaxPooling2D(pool_size=(2, 2)))\n",
    "model.add(Dropout(0.25))\n",
    "\n",
    "model.add(Flatten())\n",
    "model.add(Dense(512))\n",
    "model.add(Activation('relu'))\n",
    "model.add(Dropout(0.5))\n",
    "\n",
    "model.add(Dense( 10)) # 輸出結果是10個類別，所以維度是10   \n",
    "model.add(Activation('softmax')) # 最後一層用softmax作為激活函數"
   ]
  },
  {
   "cell_type": "code",
   "execution_count": 6,
   "metadata": {},
   "outputs": [
    {
     "name": "stdout",
     "output_type": "stream",
     "text": [
      "Total Parameters：1250858\n"
     ]
    }
   ],
   "source": [
    "# 模型建立完成後，統計參數總量\n",
    "print(\"Total Parameters：%d\" % model.count_params())"
   ]
  },
  {
   "cell_type": "code",
   "execution_count": 7,
   "metadata": {},
   "outputs": [
    {
     "name": "stdout",
     "output_type": "stream",
     "text": [
      "Model: \"sequential_1\"\n",
      "_________________________________________________________________\n",
      "Layer (type)                 Output Shape              Param #   \n",
      "=================================================================\n",
      "conv2d_1 (Conv2D)            (None, 32, 32, 32)        896       \n",
      "_________________________________________________________________\n",
      "activation_1 (Activation)    (None, 32, 32, 32)        0         \n",
      "_________________________________________________________________\n",
      "conv2d_2 (Conv2D)            (None, 30, 30, 32)        9248      \n",
      "_________________________________________________________________\n",
      "activation_2 (Activation)    (None, 30, 30, 32)        0         \n",
      "_________________________________________________________________\n",
      "max_pooling2d_1 (MaxPooling2 (None, 15, 15, 32)        0         \n",
      "_________________________________________________________________\n",
      "dropout_1 (Dropout)          (None, 15, 15, 32)        0         \n",
      "_________________________________________________________________\n",
      "conv2d_3 (Conv2D)            (None, 15, 15, 64)        18496     \n",
      "_________________________________________________________________\n",
      "activation_3 (Activation)    (None, 15, 15, 64)        0         \n",
      "_________________________________________________________________\n",
      "conv2d_4 (Conv2D)            (None, 13, 13, 64)        36928     \n",
      "_________________________________________________________________\n",
      "activation_4 (Activation)    (None, 13, 13, 64)        0         \n",
      "_________________________________________________________________\n",
      "max_pooling2d_2 (MaxPooling2 (None, 6, 6, 64)          0         \n",
      "_________________________________________________________________\n",
      "dropout_2 (Dropout)          (None, 6, 6, 64)          0         \n",
      "_________________________________________________________________\n",
      "flatten_1 (Flatten)          (None, 2304)              0         \n",
      "_________________________________________________________________\n",
      "dense_1 (Dense)              (None, 512)               1180160   \n",
      "_________________________________________________________________\n",
      "activation_5 (Activation)    (None, 512)               0         \n",
      "_________________________________________________________________\n",
      "dropout_3 (Dropout)          (None, 512)               0         \n",
      "_________________________________________________________________\n",
      "dense_2 (Dense)              (None, 10)                5130      \n",
      "_________________________________________________________________\n",
      "activation_6 (Activation)    (None, 10)                0         \n",
      "=================================================================\n",
      "Total params: 1,250,858\n",
      "Trainable params: 1,250,858\n",
      "Non-trainable params: 0\n",
      "_________________________________________________________________\n"
     ]
    }
   ],
   "source": [
    "# 輸出模型摘要資訊\n",
    "model.summary()"
   ]
  },
  {
   "cell_type": "code",
   "execution_count": 8,
   "metadata": {},
   "outputs": [],
   "source": [
    "# 資料正規化\n",
    "x_train = x_train.astype('float32')\n",
    "x_test = x_test.astype('float32')\n",
    "x_train /= 255\n",
    "x_test /= 255\n"
   ]
  },
  {
   "cell_type": "code",
   "execution_count": 9,
   "metadata": {},
   "outputs": [
    {
     "data": {
      "text/plain": [
       "'\\n   第四步：訓練\\n   .fit的一些參數\\n   batch_size：對總的樣本數進行分組，每組包含的樣本數量\\n   epochs ：訓練次數\\n   shuffle：是否把數據隨機打亂之後再進行訓練\\n   validation_split：拿出百分之多少用來做交叉驗證\\n   verbose：屏顯模式 - 0：不輸出, 1：輸出進度, 2：輸出每次的訓練結果\\n'"
      ]
     },
     "execution_count": 9,
     "metadata": {},
     "output_type": "execute_result"
    }
   ],
   "source": [
    "#第三步編譯\n",
    "\n",
    "#Define a plot function\n",
    "def show_train_history(train_history,train,validation):\n",
    "    plt.plot(train_history.history[train])\n",
    "    plt.plot(train_history.history[validation])\n",
    "    plt.title('Train History')\n",
    "    plt.ylabel(train)\n",
    "    plt.xlabel('Epoch')\n",
    "    plt.legend(['train', 'validation'], loc='upper left')\n",
    "    plt.show()\n",
    "    \n",
    "# Compile and train the model\n",
    "\n",
    "def train(optimizer):\n",
    "    #Compile\n",
    "    model.compile(loss = 'categorical_crossentropy', optimizer=optimizer, metrics=['accuracy'])\n",
    "     \n",
    "    # Train the model and data pre-processing\n",
    "    if not data_augmentation:\n",
    "        print('Not using data augmentation.')\n",
    "        train_history=model.fit(x_train, y_train,\n",
    "                                batch_size=batch_size,\n",
    "                                epochs=epochs,\n",
    "                                validation_split = 0.25, \n",
    "                                shuffle=True)\n",
    "    else:\n",
    "        print('Using real-time data augmentation.')\n",
    "        print('')\n",
    "\n",
    "        # This will do preprocessing and realtime data augmentation:\n",
    "        datagen = ImageDataGenerator(\n",
    "            featurewise_center=False,  # set input mean to 0 over the dataset\n",
    "            samplewise_center=False,  # set each sample mean to 0\n",
    "            featurewise_std_normalization=False,  # divide inputs by std of the dataset\n",
    "            samplewise_std_normalization=False,  # divide each input by its std\n",
    "            zca_whitening=False,  # apply ZCA whitening\n",
    "            zca_epsilon=1e-06,  # epsilon for ZCA whitening\n",
    "            rotation_range=0,  # randomly rotate images in the range (degrees, 0 to 180)\n",
    "            # randomly shift images horizontally (fraction of total width)\n",
    "            width_shift_range=0.1,\n",
    "            # randomly shift images vertically (fraction of total height)\n",
    "            height_shift_range=0.1,\n",
    "            shear_range=0.,  # set range for random shear\n",
    "            zoom_range=0.,  # set range for random zoom\n",
    "            channel_shift_range=0.,  # set range for random channel shifts\n",
    "            # set mode for filling points outside the input boundaries\n",
    "            fill_mode='nearest',\n",
    "            cval=0.,  # value used for fill_mode = \"constant\"\n",
    "            horizontal_flip=True,  # randomly flip images\n",
    "            vertical_flip=False,  # randomly flip images\n",
    "            # set rescaling factor (applied before any other transformation)\n",
    "            rescale=None,\n",
    "            # set function that will be applied on each input\n",
    "            preprocessing_function=None,\n",
    "            # image data format, either \"channels_first\" or \"channels_last\"\n",
    "            data_format=None,\n",
    "            # fraction of images reserved for validation (strictly between 0 and 1)\n",
    "            validation_split=0.0)\n",
    "\n",
    "        # Compute quantities required for feature-wise normalization\n",
    "        # (std, mean, and principal components if ZCA whitening is applied).\n",
    "        datagen.fit(x_train)\n",
    "        train_history=model.fit(x_train, y_train,\n",
    "                                batch_size=batch_size,\n",
    "                                epochs=epochs,\n",
    "                                validation_split = 0.25, \n",
    "                                shuffle=True)\n",
    "             \n",
    "    \n",
    "    #plot\n",
    "    show_train_history(train_history,'accuracy','val_accuracy')\n",
    "    show_train_history(train_history,'loss','val_loss')\n",
    "    \n",
    "    #score\n",
    "    scores = model.evaluate(x_test,y_test,batch_size=batch_size)\n",
    "    print()\n",
    "    print('accuracy=',scores[1])\n",
    "    \n",
    "'''\n",
    "   第四步：訓練\n",
    "   .fit的一些參數\n",
    "   batch_size：對總的樣本數進行分組，每組包含的樣本數量\n",
    "   epochs ：訓練次數\n",
    "   shuffle：是否把數據隨機打亂之後再進行訓練\n",
    "   validation_split：拿出百分之多少用來做交叉驗證\n",
    "   verbose：屏顯模式 - 0：不輸出, 1：輸出進度, 2：輸出每次的訓練結果\n",
    "''' "
   ]
  },
  {
   "cell_type": "code",
   "execution_count": 10,
   "metadata": {},
   "outputs": [
    {
     "name": "stdout",
     "output_type": "stream",
     "text": [
      "Using real-time data augmentation.\n",
      "\n",
      "Train on 37500 samples, validate on 12500 samples\n",
      "Epoch 1/40\n",
      "37500/37500 [==============================] - 63s 2ms/step - loss: 1.6384 - accuracy: 0.3940 - val_loss: 1.3768 - val_accuracy: 0.5138\n",
      "Epoch 2/40\n",
      "37500/37500 [==============================] - 67s 2ms/step - loss: 1.2310 - accuracy: 0.5590 - val_loss: 1.0374 - val_accuracy: 0.6346\n",
      "Epoch 3/40\n",
      "37500/37500 [==============================] - 62s 2ms/step - loss: 1.0514 - accuracy: 0.6284 - val_loss: 0.9725 - val_accuracy: 0.6621\n",
      "Epoch 4/40\n",
      "37500/37500 [==============================] - 61s 2ms/step - loss: 0.9332 - accuracy: 0.6704 - val_loss: 0.8375 - val_accuracy: 0.7119\n",
      "Epoch 5/40\n",
      "37500/37500 [==============================] - 61s 2ms/step - loss: 0.8479 - accuracy: 0.7021 - val_loss: 0.7857 - val_accuracy: 0.7265\n",
      "Epoch 6/40\n",
      "37500/37500 [==============================] - 61s 2ms/step - loss: 0.7921 - accuracy: 0.7226 - val_loss: 0.7363 - val_accuracy: 0.7427\n",
      "Epoch 7/40\n",
      "37500/37500 [==============================] - 61s 2ms/step - loss: 0.7454 - accuracy: 0.7367 - val_loss: 0.7213 - val_accuracy: 0.7485\n",
      "Epoch 8/40\n",
      "37500/37500 [==============================] - 61s 2ms/step - loss: 0.6972 - accuracy: 0.7554 - val_loss: 0.7267 - val_accuracy: 0.7474\n",
      "Epoch 9/40\n",
      "37500/37500 [==============================] - 60s 2ms/step - loss: 0.6552 - accuracy: 0.7701 - val_loss: 0.6925 - val_accuracy: 0.7586\n",
      "Epoch 10/40\n",
      "37500/37500 [==============================] - 60s 2ms/step - loss: 0.6249 - accuracy: 0.7802 - val_loss: 0.6841 - val_accuracy: 0.7674\n",
      "Epoch 11/40\n",
      "37500/37500 [==============================] - 60s 2ms/step - loss: 0.5994 - accuracy: 0.7893 - val_loss: 0.6960 - val_accuracy: 0.7634\n",
      "Epoch 12/40\n",
      "37500/37500 [==============================] - 61s 2ms/step - loss: 0.5696 - accuracy: 0.7998 - val_loss: 0.6775 - val_accuracy: 0.7662\n",
      "Epoch 13/40\n",
      "37500/37500 [==============================] - 61s 2ms/step - loss: 0.5521 - accuracy: 0.8067 - val_loss: 0.6694 - val_accuracy: 0.7766\n",
      "Epoch 14/40\n",
      "37500/37500 [==============================] - 61s 2ms/step - loss: 0.5219 - accuracy: 0.8167 - val_loss: 0.6607 - val_accuracy: 0.7774\n",
      "Epoch 15/40\n",
      "37500/37500 [==============================] - 67s 2ms/step - loss: 0.5006 - accuracy: 0.8231 - val_loss: 0.6599 - val_accuracy: 0.7842\n",
      "Epoch 16/40\n",
      "37500/37500 [==============================] - 64s 2ms/step - loss: 0.4864 - accuracy: 0.8255 - val_loss: 0.6716 - val_accuracy: 0.7800\n",
      "Epoch 17/40\n",
      "37500/37500 [==============================] - 63s 2ms/step - loss: 0.4737 - accuracy: 0.8326 - val_loss: 0.6470 - val_accuracy: 0.7866\n",
      "Epoch 18/40\n",
      "37500/37500 [==============================] - 61s 2ms/step - loss: 0.4542 - accuracy: 0.8388 - val_loss: 0.6644 - val_accuracy: 0.7818\n",
      "Epoch 19/40\n",
      "37500/37500 [==============================] - 61s 2ms/step - loss: 0.4462 - accuracy: 0.8405 - val_loss: 0.6965 - val_accuracy: 0.7757\n",
      "Epoch 20/40\n",
      "37500/37500 [==============================] - 60s 2ms/step - loss: 0.4357 - accuracy: 0.8457 - val_loss: 0.6605 - val_accuracy: 0.7877\n",
      "Epoch 21/40\n",
      "37500/37500 [==============================] - 60s 2ms/step - loss: 0.4184 - accuracy: 0.8522 - val_loss: 0.6652 - val_accuracy: 0.7886\n",
      "Epoch 22/40\n",
      "37500/37500 [==============================] - 60s 2ms/step - loss: 0.4102 - accuracy: 0.8552 - val_loss: 0.6929 - val_accuracy: 0.7805\n",
      "Epoch 23/40\n",
      "37500/37500 [==============================] - 60s 2ms/step - loss: 0.3959 - accuracy: 0.8599 - val_loss: 0.6592 - val_accuracy: 0.7877\n",
      "Epoch 24/40\n",
      "37500/37500 [==============================] - 60s 2ms/step - loss: 0.3888 - accuracy: 0.8611 - val_loss: 0.6999 - val_accuracy: 0.7804\n",
      "Epoch 25/40\n",
      "37500/37500 [==============================] - 61s 2ms/step - loss: 0.3831 - accuracy: 0.8633 - val_loss: 0.6663 - val_accuracy: 0.7862\n",
      "Epoch 26/40\n",
      "37500/37500 [==============================] - 65s 2ms/step - loss: 0.3695 - accuracy: 0.8674 - val_loss: 0.7002 - val_accuracy: 0.7837\n",
      "Epoch 27/40\n",
      "37500/37500 [==============================] - 66s 2ms/step - loss: 0.3613 - accuracy: 0.8717 - val_loss: 0.6757 - val_accuracy: 0.7854\n",
      "Epoch 28/40\n",
      "37500/37500 [==============================] - 65s 2ms/step - loss: 0.3565 - accuracy: 0.8730 - val_loss: 0.6711 - val_accuracy: 0.7908\n",
      "Epoch 29/40\n",
      "37500/37500 [==============================] - 63s 2ms/step - loss: 0.3465 - accuracy: 0.8769 - val_loss: 0.6941 - val_accuracy: 0.7934\n",
      "Epoch 30/40\n",
      "37500/37500 [==============================] - 66s 2ms/step - loss: 0.3461 - accuracy: 0.8769 - val_loss: 0.6840 - val_accuracy: 0.7878\n",
      "Epoch 31/40\n",
      "37500/37500 [==============================] - 64s 2ms/step - loss: 0.3371 - accuracy: 0.8797 - val_loss: 0.6973 - val_accuracy: 0.7822\n",
      "Epoch 32/40\n",
      "37500/37500 [==============================] - 62s 2ms/step - loss: 0.3375 - accuracy: 0.8801 - val_loss: 0.7503 - val_accuracy: 0.7763\n",
      "Epoch 33/40\n",
      "37500/37500 [==============================] - 62s 2ms/step - loss: 0.3298 - accuracy: 0.8821 - val_loss: 0.7051 - val_accuracy: 0.7878\n",
      "Epoch 34/40\n",
      "37500/37500 [==============================] - 62s 2ms/step - loss: 0.3232 - accuracy: 0.8852 - val_loss: 0.7443 - val_accuracy: 0.7833\n",
      "Epoch 35/40\n",
      "37500/37500 [==============================] - 62s 2ms/step - loss: 0.3238 - accuracy: 0.8864 - val_loss: 0.7442 - val_accuracy: 0.7808\n",
      "Epoch 36/40\n",
      "37500/37500 [==============================] - 62s 2ms/step - loss: 0.3080 - accuracy: 0.8915 - val_loss: 0.7009 - val_accuracy: 0.7908\n",
      "Epoch 37/40\n",
      "37500/37500 [==============================] - 62s 2ms/step - loss: 0.3154 - accuracy: 0.8892 - val_loss: 0.7074 - val_accuracy: 0.7889\n",
      "Epoch 38/40\n",
      "37500/37500 [==============================] - 60s 2ms/step - loss: 0.3040 - accuracy: 0.8916 - val_loss: 0.7243 - val_accuracy: 0.7915\n",
      "Epoch 39/40\n",
      "37500/37500 [==============================] - 60s 2ms/step - loss: 0.3092 - accuracy: 0.8910 - val_loss: 0.7215 - val_accuracy: 0.7892\n",
      "Epoch 40/40\n",
      "37500/37500 [==============================] - 60s 2ms/step - loss: 0.3002 - accuracy: 0.8947 - val_loss: 0.7374 - val_accuracy: 0.7870\n"
     ]
    },
    {
     "data": {
      "image/png": "[encoded data removed]",
      "text/plain": [
       "<Figure size 432x288 with 1 Axes>"
      ]
     },
     "metadata": {
      "needs_background": "light"
     },
     "output_type": "display_data"
    },
    {
     "data": {
      "image/png": "[encoded data removed]",
      "text/plain": [
       "<Figure size 432x288 with 1 Axes>"
      ]
     },
     "metadata": {
      "needs_background": "light"
     },
     "output_type": "display_data"
    },
    {
     "name": "stdout",
     "output_type": "stream",
     "text": [
      "10000/10000 [==============================] - 3s 291us/step\n",
      "\n",
      "accuracy= 0.7807999849319458\n"
     ]
    }
   ],
   "source": [
    "train('adam')"
   ]
  },
  {
   "cell_type": "code",
   "execution_count": 11,
   "metadata": {},
   "outputs": [
    {
     "name": "stdout",
     "output_type": "stream",
     "text": [
      "Using real-time data augmentation.\n",
      "\n",
      "Train on 37500 samples, validate on 12500 samples\n",
      "Epoch 1/40\n",
      "37500/37500 [==============================] - 57s 2ms/step - loss: 0.2733 - accuracy: 0.9046 - val_loss: 0.7530 - val_accuracy: 0.7885\n",
      "Epoch 2/40\n",
      "37500/37500 [==============================] - 58s 2ms/step - loss: 0.2585 - accuracy: 0.9091 - val_loss: 0.7867 - val_accuracy: 0.7760\n",
      "Epoch 3/40\n",
      "37500/37500 [==============================] - 62s 2ms/step - loss: 0.2443 - accuracy: 0.9140 - val_loss: 0.7209 - val_accuracy: 0.7922\n",
      "Epoch 4/40\n",
      "37500/37500 [==============================] - 58s 2ms/step - loss: 0.2329 - accuracy: 0.9174 - val_loss: 0.7414 - val_accuracy: 0.7943\n",
      "Epoch 5/40\n",
      "37500/37500 [==============================] - 57s 2ms/step - loss: 0.2344 - accuracy: 0.9184 - val_loss: 0.7360 - val_accuracy: 0.7984\n",
      "Epoch 6/40\n",
      "37500/37500 [==============================] - 64s 2ms/step - loss: 0.2265 - accuracy: 0.9197 - val_loss: 0.7395 - val_accuracy: 0.7935\n",
      "Epoch 7/40\n",
      "37500/37500 [==============================] - 60s 2ms/step - loss: 0.2265 - accuracy: 0.9199 - val_loss: 0.7280 - val_accuracy: 0.7975\n",
      "Epoch 8/40\n",
      "37500/37500 [==============================] - 61s 2ms/step - loss: 0.2269 - accuracy: 0.9211 - val_loss: 0.7172 - val_accuracy: 0.7979\n",
      "Epoch 9/40\n",
      "37500/37500 [==============================] - 59s 2ms/step - loss: 0.2285 - accuracy: 0.9188 - val_loss: 0.7240 - val_accuracy: 0.7950\n",
      "Epoch 10/40\n",
      "37500/37500 [==============================] - 60s 2ms/step - loss: 0.2230 - accuracy: 0.9209 - val_loss: 0.7455 - val_accuracy: 0.7988\n",
      "Epoch 11/40\n",
      "37500/37500 [==============================] - 61s 2ms/step - loss: 0.2136 - accuracy: 0.9247 - val_loss: 0.7333 - val_accuracy: 0.7978\n",
      "Epoch 12/40\n",
      "37500/37500 [==============================] - 61s 2ms/step - loss: 0.2092 - accuracy: 0.9260 - val_loss: 0.7620 - val_accuracy: 0.7970\n",
      "Epoch 13/40\n",
      "37500/37500 [==============================] - 66s 2ms/step - loss: 0.2173 - accuracy: 0.9230 - val_loss: 0.7408 - val_accuracy: 0.7994\n",
      "Epoch 14/40\n",
      "37500/37500 [==============================] - 60s 2ms/step - loss: 0.2138 - accuracy: 0.9242 - val_loss: 0.7415 - val_accuracy: 0.8001\n",
      "Epoch 15/40\n",
      "37500/37500 [==============================] - 64s 2ms/step - loss: 0.2083 - accuracy: 0.9261 - val_loss: 0.7403 - val_accuracy: 0.7990\n",
      "Epoch 16/40\n",
      "37500/37500 [==============================] - 61s 2ms/step - loss: 0.2077 - accuracy: 0.9276 - val_loss: 0.7398 - val_accuracy: 0.8012\n",
      "Epoch 17/40\n",
      "37500/37500 [==============================] - 59s 2ms/step - loss: 0.2051 - accuracy: 0.9270 - val_loss: 0.7352 - val_accuracy: 0.7981\n",
      "Epoch 18/40\n",
      "37500/37500 [==============================] - 60s 2ms/step - loss: 0.2078 - accuracy: 0.9277 - val_loss: 0.7445 - val_accuracy: 0.7960\n",
      "Epoch 19/40\n",
      "37500/37500 [==============================] - 59s 2ms/step - loss: 0.2060 - accuracy: 0.9276 - val_loss: 0.7459 - val_accuracy: 0.7974\n",
      "Epoch 20/40\n",
      "37500/37500 [==============================] - 59s 2ms/step - loss: 0.2048 - accuracy: 0.9283 - val_loss: 0.7353 - val_accuracy: 0.8003\n",
      "Epoch 21/40\n",
      "37500/37500 [==============================] - 61s 2ms/step - loss: 0.2062 - accuracy: 0.9281 - val_loss: 0.7312 - val_accuracy: 0.8023\n",
      "Epoch 22/40\n",
      "37500/37500 [==============================] - 59s 2ms/step - loss: 0.2025 - accuracy: 0.9287 - val_loss: 0.7477 - val_accuracy: 0.7973\n",
      "Epoch 23/40\n",
      "37500/37500 [==============================] - 60s 2ms/step - loss: 0.2081 - accuracy: 0.9270 - val_loss: 0.7503 - val_accuracy: 0.7990\n",
      "Epoch 24/40\n",
      "37500/37500 [==============================] - 62s 2ms/step - loss: 0.1989 - accuracy: 0.9304 - val_loss: 0.7546 - val_accuracy: 0.8013\n",
      "Epoch 25/40\n",
      "37500/37500 [==============================] - 68s 2ms/step - loss: 0.1976 - accuracy: 0.9318 - val_loss: 0.7567 - val_accuracy: 0.7986\n",
      "Epoch 26/40\n",
      "37500/37500 [==============================] - 66s 2ms/step - loss: 0.2017 - accuracy: 0.9299 - val_loss: 0.7584 - val_accuracy: 0.8018\n",
      "Epoch 27/40\n",
      "37500/37500 [==============================] - 61s 2ms/step - loss: 0.1982 - accuracy: 0.9310 - val_loss: 0.7794 - val_accuracy: 0.7976\n",
      "Epoch 28/40\n",
      "37500/37500 [==============================] - 62s 2ms/step - loss: 0.1919 - accuracy: 0.9330 - val_loss: 0.7446 - val_accuracy: 0.7981\n",
      "Epoch 29/40\n",
      "37500/37500 [==============================] - 60s 2ms/step - loss: 0.1947 - accuracy: 0.9312 - val_loss: 0.7692 - val_accuracy: 0.8000\n",
      "Epoch 30/40\n",
      "37500/37500 [==============================] - 61s 2ms/step - loss: 0.1985 - accuracy: 0.9296 - val_loss: 0.7430 - val_accuracy: 0.8019\n",
      "Epoch 31/40\n",
      "37500/37500 [==============================] - 66s 2ms/step - loss: 0.1890 - accuracy: 0.9342 - val_loss: 0.7562 - val_accuracy: 0.7966\n",
      "Epoch 32/40\n",
      "37500/37500 [==============================] - 64s 2ms/step - loss: 0.1918 - accuracy: 0.9318 - val_loss: 0.7511 - val_accuracy: 0.8010\n",
      "Epoch 33/40\n",
      "37500/37500 [==============================] - 58s 2ms/step - loss: 0.1892 - accuracy: 0.9340 - val_loss: 0.7672 - val_accuracy: 0.8003\n",
      "Epoch 34/40\n",
      "37500/37500 [==============================] - 63s 2ms/step - loss: 0.1994 - accuracy: 0.9310 - val_loss: 0.7599 - val_accuracy: 0.7995\n",
      "Epoch 35/40\n",
      "37500/37500 [==============================] - 62s 2ms/step - loss: 0.1912 - accuracy: 0.9331 - val_loss: 0.7560 - val_accuracy: 0.8010\n",
      "Epoch 36/40\n",
      "37500/37500 [==============================] - 63s 2ms/step - loss: 0.1843 - accuracy: 0.9354 - val_loss: 0.7579 - val_accuracy: 0.8020\n",
      "Epoch 37/40\n",
      "37500/37500 [==============================] - 61s 2ms/step - loss: 0.1913 - accuracy: 0.9324 - val_loss: 0.7451 - val_accuracy: 0.7996\n",
      "Epoch 38/40\n",
      "37500/37500 [==============================] - 61s 2ms/step - loss: 0.1874 - accuracy: 0.9341 - val_loss: 0.7629 - val_accuracy: 0.7982\n",
      "Epoch 39/40\n",
      "37500/37500 [==============================] - 63s 2ms/step - loss: 0.1959 - accuracy: 0.9307 - val_loss: 0.7589 - val_accuracy: 0.8022\n",
      "Epoch 40/40\n",
      "37500/37500 [==============================] - 64s 2ms/step - loss: 0.1919 - accuracy: 0.9324 - val_loss: 0.7505 - val_accuracy: 0.8006\n"
     ]
    },
    {
     "data": {
      "image/png": "[encoded data removed]",
      "text/plain": [
       "<Figure size 432x288 with 1 Axes>"
      ]
     },
     "metadata": {
      "needs_background": "light"
     },
     "output_type": "display_data"
    },
    {
     "data": {
      "image/png": "[encoded data removed]",
      "text/plain": [
       "<Figure size 432x288 with 1 Axes>"
      ]
     },
     "metadata": {
      "needs_background": "light"
     },
     "output_type": "display_data"
    },
    {
     "name": "stdout",
     "output_type": "stream",
     "text": [
      "10000/10000 [==============================] - 3s 301us/step\n",
      "\n",
      "accuracy= 0.7946000099182129\n"
     ]
    }
   ],
   "source": [
    "train('sgd')"
   ]
  },
  {
   "cell_type": "code",
   "execution_count": 12,
   "metadata": {},
   "outputs": [
    {
     "name": "stdout",
     "output_type": "stream",
     "text": [
      "Using real-time data augmentation.\n",
      "\n",
      "Train on 37500 samples, validate on 12500 samples\n",
      "Epoch 1/40\n",
      "37500/37500 [==============================] - 62s 2ms/step - loss: 0.2880 - accuracy: 0.9047 - val_loss: 0.8453 - val_accuracy: 0.7938\n",
      "Epoch 2/40\n",
      "37500/37500 [==============================] - 62s 2ms/step - loss: 0.3133 - accuracy: 0.8971 - val_loss: 0.8847 - val_accuracy: 0.7827\n",
      "Epoch 3/40\n",
      "37500/37500 [==============================] - 63s 2ms/step - loss: 0.3253 - accuracy: 0.8933 - val_loss: 0.7980 - val_accuracy: 0.7956\n",
      "Epoch 4/40\n",
      "37500/37500 [==============================] - 62s 2ms/step - loss: 0.3395 - accuracy: 0.8880 - val_loss: 0.9103 - val_accuracy: 0.7862\n",
      "Epoch 5/40\n",
      "37500/37500 [==============================] - 62s 2ms/step - loss: 0.3477 - accuracy: 0.8866 - val_loss: 0.7952 - val_accuracy: 0.7942\n",
      "Epoch 6/40\n",
      "37500/37500 [==============================] - 64s 2ms/step - loss: 0.3698 - accuracy: 0.8796 - val_loss: 0.8422 - val_accuracy: 0.7959\n",
      "Epoch 7/40\n",
      "37500/37500 [==============================] - 62s 2ms/step - loss: 0.4005 - accuracy: 0.8708 - val_loss: 0.7955 - val_accuracy: 0.7871\n",
      "Epoch 8/40\n",
      "37500/37500 [==============================] - 63s 2ms/step - loss: 0.4290 - accuracy: 0.8638 - val_loss: 0.9003 - val_accuracy: 0.7863\n",
      "Epoch 9/40\n",
      "37500/37500 [==============================] - 63s 2ms/step - loss: 0.4609 - accuracy: 0.8538 - val_loss: 0.7842 - val_accuracy: 0.7902\n",
      "Epoch 10/40\n",
      "37500/37500 [==============================] - 62s 2ms/step - loss: 0.4814 - accuracy: 0.8516 - val_loss: 1.0414 - val_accuracy: 0.7779\n",
      "Epoch 11/40\n",
      "37500/37500 [==============================] - 62s 2ms/step - loss: 0.5100 - accuracy: 0.8413 - val_loss: 0.8884 - val_accuracy: 0.7880\n",
      "Epoch 12/40\n",
      "37500/37500 [==============================] - 62s 2ms/step - loss: 0.5517 - accuracy: 0.8287 - val_loss: 0.8571 - val_accuracy: 0.7909\n",
      "Epoch 13/40\n",
      "37500/37500 [==============================] - 62s 2ms/step - loss: 0.5715 - accuracy: 0.8258 - val_loss: 0.9768 - val_accuracy: 0.7833\n",
      "Epoch 14/40\n",
      "37500/37500 [==============================] - 64s 2ms/step - loss: 0.5988 - accuracy: 0.8190 - val_loss: 0.8208 - val_accuracy: 0.7821\n",
      "Epoch 15/40\n",
      "37500/37500 [==============================] - 62s 2ms/step - loss: 0.6116 - accuracy: 0.8172 - val_loss: 0.8095 - val_accuracy: 0.7806\n",
      "Epoch 16/40\n",
      "37500/37500 [==============================] - 61s 2ms/step - loss: 0.6422 - accuracy: 0.8089 - val_loss: 0.8352 - val_accuracy: 0.7527\n",
      "Epoch 17/40\n",
      "37500/37500 [==============================] - 61s 2ms/step - loss: 0.6618 - accuracy: 0.8024 - val_loss: 0.8547 - val_accuracy: 0.7764\n",
      "Epoch 18/40\n",
      "37500/37500 [==============================] - 61s 2ms/step - loss: 0.6816 - accuracy: 0.7987 - val_loss: 0.9894 - val_accuracy: 0.7694\n",
      "Epoch 19/40\n",
      "37500/37500 [==============================] - 63s 2ms/step - loss: 0.7030 - accuracy: 0.7894 - val_loss: 0.8271 - val_accuracy: 0.7760\n",
      "Epoch 20/40\n",
      "37500/37500 [==============================] - 61s 2ms/step - loss: 0.7220 - accuracy: 0.7833 - val_loss: 0.9740 - val_accuracy: 0.7481\n",
      "Epoch 21/40\n",
      "37500/37500 [==============================] - 63s 2ms/step - loss: 0.7323 - accuracy: 0.7806 - val_loss: 0.8659 - val_accuracy: 0.7705\n",
      "Epoch 22/40\n",
      "37500/37500 [==============================] - 64s 2ms/step - loss: 0.7415 - accuracy: 0.7784 - val_loss: 0.8522 - val_accuracy: 0.7606\n",
      "Epoch 23/40\n",
      "37500/37500 [==============================] - 61s 2ms/step - loss: 0.7663 - accuracy: 0.7678 - val_loss: 0.8712 - val_accuracy: 0.7638\n",
      "Epoch 24/40\n",
      "37500/37500 [==============================] - 61s 2ms/step - loss: 0.7837 - accuracy: 0.7673 - val_loss: 0.7710 - val_accuracy: 0.7753\n",
      "Epoch 25/40\n",
      "37500/37500 [==============================] - 61s 2ms/step - loss: 0.7789 - accuracy: 0.7609 - val_loss: 0.8277 - val_accuracy: 0.7440\n",
      "Epoch 26/40\n",
      "37500/37500 [==============================] - 63s 2ms/step - loss: 0.8048 - accuracy: 0.7538 - val_loss: 0.8597 - val_accuracy: 0.7412\n",
      "Epoch 27/40\n",
      "37500/37500 [==============================] - 64s 2ms/step - loss: 0.7987 - accuracy: 0.7554 - val_loss: 0.8059 - val_accuracy: 0.7436\n",
      "Epoch 28/40\n",
      "37500/37500 [==============================] - 62s 2ms/step - loss: 0.8095 - accuracy: 0.7540 - val_loss: 0.9484 - val_accuracy: 0.7161\n",
      "Epoch 29/40\n",
      "37500/37500 [==============================] - 63s 2ms/step - loss: 0.8243 - accuracy: 0.7482 - val_loss: 0.8235 - val_accuracy: 0.7411\n",
      "Epoch 30/40\n",
      "37500/37500 [==============================] - 62s 2ms/step - loss: 0.8370 - accuracy: 0.7429 - val_loss: 0.7826 - val_accuracy: 0.7517\n",
      "Epoch 31/40\n",
      "37500/37500 [==============================] - 61s 2ms/step - loss: 0.8446 - accuracy: 0.7416 - val_loss: 0.8563 - val_accuracy: 0.7421\n",
      "Epoch 32/40\n",
      "37500/37500 [==============================] - 62s 2ms/step - loss: 0.8550 - accuracy: 0.7362 - val_loss: 0.8028 - val_accuracy: 0.7502\n",
      "Epoch 33/40\n",
      "37500/37500 [==============================] - 61s 2ms/step - loss: 0.8502 - accuracy: 0.7357 - val_loss: 0.8691 - val_accuracy: 0.7324\n",
      "Epoch 34/40\n",
      "37500/37500 [==============================] - 63s 2ms/step - loss: 0.8767 - accuracy: 0.7326 - val_loss: 0.8551 - val_accuracy: 0.7242\n",
      "Epoch 35/40\n",
      "37500/37500 [==============================] - 66s 2ms/step - loss: 0.8815 - accuracy: 0.7271 - val_loss: 0.9804 - val_accuracy: 0.7003\n",
      "Epoch 36/40\n",
      "37500/37500 [==============================] - 60s 2ms/step - loss: 0.8845 - accuracy: 0.7230 - val_loss: 0.8872 - val_accuracy: 0.7509\n",
      "Epoch 37/40\n",
      "37500/37500 [==============================] - 59s 2ms/step - loss: 0.8925 - accuracy: 0.7243 - val_loss: 0.7952 - val_accuracy: 0.7479\n",
      "Epoch 38/40\n",
      "37500/37500 [==============================] - 64s 2ms/step - loss: 0.9104 - accuracy: 0.7177 - val_loss: 0.8593 - val_accuracy: 0.7374\n",
      "Epoch 39/40\n",
      "37500/37500 [==============================] - 65s 2ms/step - loss: 0.9028 - accuracy: 0.7175 - val_loss: 1.4828 - val_accuracy: 0.7416\n",
      "Epoch 40/40\n",
      "37500/37500 [==============================] - 62s 2ms/step - loss: 0.9222 - accuracy: 0.7113 - val_loss: 0.8217 - val_accuracy: 0.7434\n"
     ]
    },
    {
     "data": {
      "image/png": "[encoded data removed]",
      "text/plain": [
       "<Figure size 432x288 with 1 Axes>"
      ]
     },
     "metadata": {
      "needs_background": "light"
     },
     "output_type": "display_data"
    },
    {
     "data": {
      "image/png": "[encoded data removed]",
      "text/plain": [
       "<Figure size 432x288 with 1 Axes>"
      ]
     },
     "metadata": {
      "needs_background": "light"
     },
     "output_type": "display_data"
    },
    {
     "name": "stdout",
     "output_type": "stream",
     "text": [
      "10000/10000 [==============================] - 3s 296us/step\n",
      "\n",
      "accuracy= 0.7346000075340271\n"
     ]
    }
   ],
   "source": [
    "train('RMSprop')"
   ]
  },
  {
   "cell_type": "code",
   "execution_count": 13,
   "metadata": {},
   "outputs": [
    {
     "data": {
      "text/plain": [
       "\"\\n#    第五步：保存參數和模型\\n# Save model and weights\\nif not os.path.isdir(save_dir):\\n    os.makedirs(save_dir)\\nmodel_path = os.path.join(save_dir, model_name)\\nmodel.save(model_path)\\nprint('Saved trained model at %s ' % model_path)\\n\\n# Score trained model.\\nscores = model.evaluate(x_test, y_test, verbose=1)\\nprint('Test loss:', scores[0])\\nprint('Test accuracy:', scores[1])\\n\""
      ]
     },
     "execution_count": 13,
     "metadata": {},
     "output_type": "execute_result"
    }
   ],
   "source": [
    "'''\n",
    "#    第五步：保存參數和模型\n",
    "# Save model and weights\n",
    "if not os.path.isdir(save_dir):\n",
    "    os.makedirs(save_dir)\n",
    "model_path = os.path.join(save_dir, model_name)\n",
    "model.save(model_path)\n",
    "print('Saved trained model at %s ' % model_path)\n",
    "\n",
    "# Score trained model.\n",
    "scores = model.evaluate(x_test, y_test, verbose=1)\n",
    "print('Test loss:', scores[0])\n",
    "print('Test accuracy:', scores[1])\n",
    "'''"
   ]
  },
  {
   "cell_type": "code",
   "execution_count": 14,
   "metadata": {},
   "outputs": [
    {
     "data": {
      "text/plain": [
       "'\\n#    第六步：輸出\\nimport numpy \\n\\nprint ( \" test set \" )\\nscores = model.evaluate(x_test,y_test,batch_size=200,verbose= 0)\\nprint ( \"\" )\\n\\nprint ( \" The test loss is %f \", scores)\\n\\n\\nresult = model.predict(x_test,batch_size=200,verbose= 0)\\n\\nresult_max = numpy.argmax(result, axis = 1 )\\ntest_max = numpy.argmax(y_test, axis = 1 )\\n\\nresult_bool = numpy.equal(result_max, test_max)\\ntrue_num = numpy.sum(result_bool)\\n'"
      ]
     },
     "execution_count": 14,
     "metadata": {},
     "output_type": "execute_result"
    }
   ],
   "source": [
    "'''\n",
    "#    第六步：輸出\n",
    "import numpy \n",
    "\n",
    "print ( \" test set \" )\n",
    "scores = model.evaluate(x_test,y_test,batch_size=200,verbose= 0)\n",
    "print ( \"\" )\n",
    "\n",
    "print ( \" The test loss is %f \", scores)\n",
    "\n",
    "\n",
    "result = model.predict(x_test,batch_size=200,verbose= 0)\n",
    "\n",
    "result_max = numpy.argmax(result, axis = 1 )\n",
    "test_max = numpy.argmax(y_test, axis = 1 )\n",
    "\n",
    "result_bool = numpy.equal(result_max, test_max)\n",
    "true_num = numpy.sum(result_bool)\n",
    "'''"
   ]
  },
  {
   "cell_type": "raw",
   "metadata": {},
   "source": [
    "Compare with the result from the example, the loss will converge faster when there is a larger batch sizes. And also the result will converge with a higher value of epochs.\n"
   ]
  }
 ],
 "metadata": {
  "kernelspec": {
   "display_name": "Python 3",
   "language": "python",
   "name": "python3"
  },
  "language_info": {
   "codemirror_mode": {
    "name": "ipython",
    "version": 3
   },
   "file_extension": ".py",
   "mimetype": "text/x-python",
   "name": "python",
   "nbconvert_exporter": "python",
   "pygments_lexer": "ipython3",
   "version": "3.7.3"
  }
 },
 "nbformat": 4,
 "nbformat_minor": 2
}

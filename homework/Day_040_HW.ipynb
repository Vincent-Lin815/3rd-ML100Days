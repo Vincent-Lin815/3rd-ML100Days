{
 "cells": [
  {
   "cell_type": "markdown",
   "metadata": {},
   "source": [
    "## [作業重點]\n",
    "使用 Sklearn 中的 Lasso, Ridge 模型，來訓練各種資料集，務必了解送進去模型訓練的**資料型態**為何，也請了解模型中各項參數的意義。\n",
    "\n",
    "機器學習的模型非常多種，但要訓練的資料多半有固定的格式，確保你了解訓練資料的格式為何，這樣在應用新模型時，就能夠最快的上手開始訓練！"
   ]
  },
  {
   "cell_type": "markdown",
   "metadata": {},
   "source": [
    "## 練習時間\n",
    "試著使用 sklearn datasets 的其他資料集 (boston, ...)，來訓練自己的線性迴歸模型，並加上適當的正則化來觀察訓練情形。"
   ]
  },
  {
   "cell_type": "code",
   "execution_count": 30,
   "metadata": {},
   "outputs": [],
   "source": [
    "import numpy as np\n",
    "import matplotlib.pyplot as plt\n",
    "from sklearn import datasets, linear_model\n",
    "from sklearn.model_selection import train_test_split\n",
    "from sklearn.metrics import mean_squared_error, r2_score"
   ]
  },
  {
   "cell_type": "code",
   "execution_count": 31,
   "metadata": {},
   "outputs": [
    {
     "name": "stdout",
     "output_type": "stream",
     "text": [
      "[-1.15966452e-01  4.71249231e-02  8.25980146e-03  3.23404531e+00\n",
      " -1.66865890e+01  3.88410651e+00 -1.08974442e-02 -1.54129540e+00\n",
      "  2.93208309e-01 -1.34059383e-02 -9.06296429e-01  8.80823439e-03\n",
      " -4.57723846e-01]\n",
      "Mean squared error: 25.42\n"
     ]
    }
   ],
   "source": [
    "Boston = datasets.load_boston()\n",
    "x_train, x_test, y_train, y_test = train_test_split(Boston.data, Boston.target, test_size=0.2, random_state=4)\n",
    "regr = linear_model.LinearRegression()\n",
    "regr.fit(x_train, y_train)\n",
    "y_pred = regr.predict(x_test)\n",
    "print(regr.coef_)\n",
    "print(\"Mean squared error: %.2f\" % mean_squared_error(y_test, y_pred))"
   ]
  },
  {
   "cell_type": "code",
   "execution_count": 32,
   "metadata": {},
   "outputs": [
    {
     "name": "stdout",
     "output_type": "stream",
     "text": [
      "[-0.06494981  0.04581458 -0.          0.         -0.          1.18140024\n",
      "  0.01109101 -0.73695809  0.23350042 -0.01551065 -0.69270805  0.00763157\n",
      " -0.6927848 ]\n",
      "Mean squared error: 28.95\n",
      "[-0.          0.01832072 -0.          0.          0.          0.\n",
      "  0.         -0.          0.         -0.01151799 -0.          0.00615268\n",
      " -0.52036911]\n",
      "Mean squared error: 47.63\n",
      "[-0.          0.         -0.          0.         -0.          0.\n",
      " -0.          0.         -0.         -0.02267029 -0.          0.00197791\n",
      " -0.        ]\n",
      "Mean squared error: 81.65\n",
      "[-1.12499445e-01  4.79562332e-02 -2.40438147e-02  2.96199458e+00\n",
      " -9.33966118e+00  3.93079015e+00 -1.73821202e-02 -1.43347691e+00\n",
      "  2.75239392e-01 -1.38920708e-02 -8.31116943e-01  9.15637729e-03\n",
      " -4.66460539e-01]\n",
      "Mean squared error: 25.74\n",
      "[-0.10983294  0.049805   -0.05382756  2.06396836 -1.86500987  3.73850198\n",
      " -0.02135944 -1.32033911  0.2667507  -0.01481666 -0.77176853  0.00945631\n",
      " -0.49564775]\n",
      "Mean squared error: 26.24\n",
      "[-0.10763397  0.05372159 -0.05747993  0.60034259 -0.19610981  2.21912389\n",
      " -0.00637912 -1.19515097  0.29907624 -0.01644862 -0.80880248  0.00878369\n",
      " -0.61287022]\n",
      "Mean squared error: 26.70\n"
     ]
    }
   ],
   "source": [
    "## Lasso alpha = 1\n",
    "Boston = datasets.load_boston()\n",
    "X_train, x_test, y_train, y_test = train_test_split(Boston.data, Boston.target, test_size=0.2, random_state=4)\n",
    "lasso = linear_model.Lasso(alpha = 1)\n",
    "lasso.fit(X_train, y_train)\n",
    "y_pred = lasso.predict(x_test)\n",
    "print(lasso.coef_)\n",
    "print(\"Mean squared error: %.2f\" % mean_squared_error(y_test, y_pred))\n",
    "\n",
    "## Lasso alpha = 10\n",
    "Boston = datasets.load_boston()\n",
    "X_train, x_test, y_train, y_test = train_test_split(Boston.data, Boston.target, test_size=0.2, random_state=4)\n",
    "lasso = linear_model.Lasso(alpha = 10)\n",
    "lasso.fit(X_train, y_train)\n",
    "y_pred = lasso.predict(x_test)\n",
    "print(lasso.coef_)\n",
    "print(\"Mean squared error: %.2f\" % mean_squared_error(y_test, y_pred))\n",
    "\n",
    "## Lasso alpha = 100\n",
    "Boston = datasets.load_boston()\n",
    "X_train, x_test, y_train, y_test = train_test_split(Boston.data, Boston.target, test_size=0.2, random_state=4)\n",
    "lasso = linear_model.Lasso(alpha = 100)\n",
    "lasso.fit(X_train, y_train)\n",
    "y_pred = lasso.predict(x_test)\n",
    "print(lasso.coef_)\n",
    "print(\"Mean squared error: %.2f\" % mean_squared_error(y_test, y_pred))\n",
    "\n",
    "## Ridge alpha = 1\n",
    "Boston = datasets.load_boston()\n",
    "X_train, x_test, y_train, y_test = train_test_split(Boston.data, Boston.target, test_size=0.2, random_state=4)\n",
    "ridge = linear_model.Ridge(alpha = 1)\n",
    "ridge.fit(X_train, y_train)\n",
    "y_pred = ridge.predict(x_test)\n",
    "print(ridge.coef_)\n",
    "print(\"Mean squared error: %.2f\" % mean_squared_error(y_test, y_pred))\n",
    "\n",
    "## Ridge alpha = 10\n",
    "Boston = datasets.load_boston()\n",
    "X_train, x_test, y_train, y_test = train_test_split(Boston.data, Boston.target, test_size=0.2, random_state=4)\n",
    "ridge = linear_model.Ridge(alpha = 10)\n",
    "ridge.fit(X_train, y_train)\n",
    "y_pred = ridge.predict(x_test)\n",
    "print(ridge.coef_)\n",
    "print(\"Mean squared error: %.2f\" % mean_squared_error(y_test, y_pred))\n",
    "\n",
    "## Ridge alpha = 100\n",
    "Boston = datasets.load_boston()\n",
    "X_train, x_test, y_train, y_test = train_test_split(Boston.data, Boston.target, test_size=0.2, random_state=4)\n",
    "ridge = linear_model.Ridge(alpha = 100)\n",
    "ridge.fit(X_train, y_train)\n",
    "y_pred = ridge.predict(x_test)\n",
    "print(ridge.coef_)\n",
    "print(\"Mean squared error: %.2f\" % mean_squared_error(y_test, y_pred))"
   ]
  },
  {
   "cell_type": "code",
   "execution_count": 33,
   "metadata": {},
   "outputs": [
    {
     "name": "stdout",
     "output_type": "stream",
     "text": [
      "[ 0.          0.          0.          0.          0.         -0.\n",
      " -0.          0.         -0.          0.         -0.         -0.\n",
      " -0.00159714]\n",
      "Mean squared error: 0.42\n",
      "[ 0.          0.          0.          0.          0.         -0.\n",
      " -0.          0.         -0.          0.         -0.         -0.\n",
      " -0.00149977]\n",
      "Mean squared error: 0.42\n",
      "[-0.          0.         -0.          0.         -0.         -0.\n",
      " -0.          0.         -0.          0.         -0.         -0.\n",
      " -0.00052605]\n",
      "Mean squared error: 0.52\n",
      "[-0.1060308   0.01767173 -0.20185208  0.04519307  0.00041456  0.09901609\n",
      " -0.31237143 -0.1038379   0.03489971  0.07770768 -0.13450626 -0.27442063\n",
      " -0.00077001]\n",
      "Mean squared error: 0.07\n",
      "[-0.09101304  0.02399141 -0.1064664   0.0396002   0.00034535  0.00180742\n",
      " -0.26003806 -0.01195908  0.01538726  0.08656986 -0.06235294 -0.22360622\n",
      " -0.00087038]\n",
      "Mean squared error: 0.07\n",
      "[-0.03216894  0.0356036  -0.02204152  0.03729371  0.00021356 -0.05883592\n",
      " -0.14920789  0.00610203 -0.02897057  0.09498249 -0.02171125 -0.11606981\n",
      " -0.00117467]\n",
      "Mean squared error: 0.10\n"
     ]
    }
   ],
   "source": [
    "## Lasso alpha = 1\n",
    "Wine = datasets.load_wine()\n",
    "X_train, x_test, y_train, y_test = train_test_split(Wine.data, Wine.target, test_size=0.2, random_state=4)\n",
    "lasso = linear_model.Lasso(alpha = 1)\n",
    "lasso.fit(X_train, y_train)\n",
    "y_pred = lasso.predict(x_test)\n",
    "print(lasso.coef_)\n",
    "print(\"Mean squared error: %.2f\" % mean_squared_error(y_test, y_pred))\n",
    "\n",
    "## Lasso alpha = 10\n",
    "Wine = datasets.load_wine()\n",
    "X_train, x_test, y_train, y_test = train_test_split(Wine.data, Wine.target, test_size=0.2, random_state=4)\n",
    "lasso = linear_model.Lasso(alpha = 10)\n",
    "lasso.fit(X_train, y_train)\n",
    "y_pred = lasso.predict(x_test)\n",
    "print(lasso.coef_)\n",
    "print(\"Mean squared error: %.2f\" % mean_squared_error(y_test, y_pred))\n",
    "\n",
    "## Lasso alpha = 100\n",
    "Wine = datasets.load_wine()\n",
    "X_train, x_test, y_train, y_test = train_test_split(Wine.data, Wine.target, test_size=0.2, random_state=4)\n",
    "lasso = linear_model.Lasso(alpha = 100)\n",
    "lasso.fit(X_train, y_train)\n",
    "y_pred = lasso.predict(x_test)\n",
    "print(lasso.coef_)\n",
    "print(\"Mean squared error: %.2f\" % mean_squared_error(y_test, y_pred))\n",
    "\n",
    "## Ridge alpha = 1\n",
    "Wine = datasets.load_wine()\n",
    "X_train, x_test, y_train, y_test = train_test_split(Wine.data, Wine.target, test_size=0.2, random_state=4)\n",
    "ridge = linear_model.Ridge(alpha = 1)\n",
    "ridge.fit(X_train, y_train)\n",
    "y_pred = ridge.predict(x_test)\n",
    "print(ridge.coef_)\n",
    "print(\"Mean squared error: %.2f\" % mean_squared_error(y_test, y_pred))\n",
    "\n",
    "## Ridge alpha = 10\n",
    "Wine = datasets.load_wine()\n",
    "X_train, x_test, y_train, y_test = train_test_split(Wine.data, Wine.target, test_size=0.2, random_state=4)\n",
    "ridge = linear_model.Ridge(alpha = 10)\n",
    "ridge.fit(X_train, y_train)\n",
    "y_pred = ridge.predict(x_test)\n",
    "print(ridge.coef_)\n",
    "print(\"Mean squared error: %.2f\" % mean_squared_error(y_test, y_pred))\n",
    "\n",
    "## Ridge alpha = 100\n",
    "Wine = datasets.load_wine()\n",
    "X_train, x_test, y_train, y_test = train_test_split(Wine.data, Wine.target, test_size=0.2, random_state=4)\n",
    "ridge = linear_model.Ridge(alpha = 100)\n",
    "ridge.fit(X_train, y_train)\n",
    "y_pred = ridge.predict(x_test)\n",
    "print(ridge.coef_)\n",
    "print(\"Mean squared error: %.2f\" % mean_squared_error(y_test, y_pred))"
   ]
  }
 ],
 "metadata": {
  "kernelspec": {
   "display_name": "Python 3",
   "language": "python",
   "name": "python3"
  },
  "language_info": {
   "codemirror_mode": {
    "name": "ipython",
    "version": 3
   },
   "file_extension": ".py",
   "mimetype": "text/x-python",
   "name": "python",
   "nbconvert_exporter": "python",
   "pygments_lexer": "ipython3",
   "version": "3.7.3"
  }
 },
 "nbformat": 4,
 "nbformat_minor": 2
}

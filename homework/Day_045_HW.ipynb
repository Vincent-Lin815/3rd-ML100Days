{
 "cells": [
  {
   "cell_type": "raw",
   "metadata": {},
   "source": [
    "1. Bagging : 用在很強的 model , 防止他 overfitting , 例如 decision tree 做 bagging 就是 random forest 可以降低單一 model 容易 overfitting 的問題 , 但無法使 model 更 fit data\n",
    "\n",
    "2. Boosting : 用在很弱的model , 把多個 decision trump 乘上 Weighting , 可以有效降低錯誤率\n",
    "\n",
    "3. Stacking : 把一部分的 training data 拿來 train 前面的 classifier 再把剩下的 training data 拿來 train 後面的 final      classifier 如果前面在做 staacking 的 classifier 表現不好 , 就給他較小的 Weighting , 可以確保團隊和諧"
   ]
  }
 ],
 "metadata": {
  "kernelspec": {
   "display_name": "Python 3",
   "language": "python",
   "name": "python3"
  },
  "language_info": {
   "codemirror_mode": {
    "name": "ipython",
    "version": 3
   },
   "file_extension": ".py",
   "mimetype": "text/x-python",
   "name": "python",
   "nbconvert_exporter": "python",
   "pygments_lexer": "ipython3",
   "version": "3.7.3"
  }
 },
 "nbformat": 4,
 "nbformat_minor": 2
}
